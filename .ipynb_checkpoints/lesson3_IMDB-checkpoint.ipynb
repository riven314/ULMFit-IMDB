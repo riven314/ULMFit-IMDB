{
 "cells": [
  {
   "cell_type": "markdown",
   "metadata": {},
   "source": [
    "#### Things to Try\n",
    "1. Try directly train classifier without Language Model fine-tuning\n",
    "    - Conditioned on a given text, generate texts with fine-tuned\n",
    "    - Generate again WITHOUT fine-tuned\n",
    "2. Try to recover the state (Databunch, partially trained model)\n",
    "3. Check out how Language Model is trained (supervised? unsupervised?)\n",
    "4. Visualize latent space for different semantic (WITH v.s. WITHOUT fine-tuning)"
   ]
  },
  {
   "cell_type": "code",
   "execution_count": 1,
   "metadata": {},
   "outputs": [],
   "source": [
    "%reload_ext autoreload\n",
    "%autoreload 2\n",
    "%matplotlib inline"
   ]
  },
  {
   "cell_type": "code",
   "execution_count": 2,
   "metadata": {},
   "outputs": [],
   "source": [
    "from fastai.text import *"
   ]
  },
  {
   "cell_type": "code",
   "execution_count": 3,
   "metadata": {},
   "outputs": [
    {
     "data": {
      "text/plain": [
       "[PosixPath('/userhome/34/h3509807/.fastai/data/imdb_sample/texts.csv'),\n",
       " PosixPath('/userhome/34/h3509807/.fastai/data/imdb_sample/data_save.pkl')]"
      ]
     },
     "execution_count": 3,
     "metadata": {},
     "output_type": "execute_result"
    }
   ],
   "source": [
    "path = untar_data(URLs.IMDB_SAMPLE)\n",
    "path.ls()"
   ]
  },
  {
   "cell_type": "code",
   "execution_count": 7,
   "metadata": {},
   "outputs": [
    {
     "data": {
      "text/html": [
       "<div>\n",
       "<style scoped>\n",
       "    .dataframe tbody tr th:only-of-type {\n",
       "        vertical-align: middle;\n",
       "    }\n",
       "\n",
       "    .dataframe tbody tr th {\n",
       "        vertical-align: top;\n",
       "    }\n",
       "\n",
       "    .dataframe thead th {\n",
       "        text-align: right;\n",
       "    }\n",
       "</style>\n",
       "<table border=\"1\" class=\"dataframe\">\n",
       "  <thead>\n",
       "    <tr style=\"text-align: right;\">\n",
       "      <th></th>\n",
       "      <th>label</th>\n",
       "      <th>text</th>\n",
       "      <th>is_valid</th>\n",
       "    </tr>\n",
       "  </thead>\n",
       "  <tbody>\n",
       "    <tr>\n",
       "      <th>0</th>\n",
       "      <td>negative</td>\n",
       "      <td>Un-bleeping-believable! Meg Ryan doesn't even ...</td>\n",
       "      <td>False</td>\n",
       "    </tr>\n",
       "    <tr>\n",
       "      <th>1</th>\n",
       "      <td>positive</td>\n",
       "      <td>This is a extremely well-made film. The acting...</td>\n",
       "      <td>False</td>\n",
       "    </tr>\n",
       "    <tr>\n",
       "      <th>2</th>\n",
       "      <td>negative</td>\n",
       "      <td>Every once in a long while a movie will come a...</td>\n",
       "      <td>False</td>\n",
       "    </tr>\n",
       "    <tr>\n",
       "      <th>3</th>\n",
       "      <td>positive</td>\n",
       "      <td>Name just says it all. I watched this movie wi...</td>\n",
       "      <td>False</td>\n",
       "    </tr>\n",
       "    <tr>\n",
       "      <th>4</th>\n",
       "      <td>negative</td>\n",
       "      <td>This movie succeeds at being one of the most u...</td>\n",
       "      <td>False</td>\n",
       "    </tr>\n",
       "  </tbody>\n",
       "</table>\n",
       "</div>"
      ],
      "text/plain": [
       "      label                                               text  is_valid\n",
       "0  negative  Un-bleeping-believable! Meg Ryan doesn't even ...     False\n",
       "1  positive  This is a extremely well-made film. The acting...     False\n",
       "2  negative  Every once in a long while a movie will come a...     False\n",
       "3  positive  Name just says it all. I watched this movie wi...     False\n",
       "4  negative  This movie succeeds at being one of the most u...     False"
      ]
     },
     "execution_count": 7,
     "metadata": {},
     "output_type": "execute_result"
    }
   ],
   "source": [
    "df = pd.read_csv(path / 'texts.csv')\n",
    "df.head()"
   ]
  },
  {
   "cell_type": "markdown",
   "metadata": {},
   "source": [
    "#### 0. Saving Intermediate Results"
   ]
  },
  {
   "cell_type": "code",
   "execution_count": 14,
   "metadata": {},
   "outputs": [
    {
     "data": {
      "text/html": [],
      "text/plain": [
       "<IPython.core.display.HTML object>"
      ]
     },
     "metadata": {},
     "output_type": "display_data"
    },
    {
     "data": {
      "text/html": [],
      "text/plain": [
       "<IPython.core.display.HTML object>"
      ]
     },
     "metadata": {},
     "output_type": "display_data"
    }
   ],
   "source": [
    "data_lm = TextDataBunch.from_csv(path, 'texts.csv')"
   ]
  },
  {
   "cell_type": "code",
   "execution_count": 23,
   "metadata": {},
   "outputs": [],
   "source": [
    "data_lm.save()"
   ]
  },
  {
   "cell_type": "code",
   "execution_count": 49,
   "metadata": {},
   "outputs": [],
   "source": [
    "data = load_data(path)"
   ]
  },
  {
   "cell_type": "markdown",
   "metadata": {},
   "source": [
    "#### 1. Tokenization"
   ]
  },
  {
   "cell_type": "code",
   "execution_count": 67,
   "metadata": {},
   "outputs": [
    {
     "data": {
      "text/html": [],
      "text/plain": [
       "<IPython.core.display.HTML object>"
      ]
     },
     "metadata": {},
     "output_type": "display_data"
    },
    {
     "data": {
      "text/html": [],
      "text/plain": [
       "<IPython.core.display.HTML object>"
      ]
     },
     "metadata": {},
     "output_type": "display_data"
    }
   ],
   "source": [
    "data = TextClasDataBunch.from_csv(path, 'texts.csv')"
   ]
  },
  {
   "cell_type": "code",
   "execution_count": 65,
   "metadata": {},
   "outputs": [
    {
     "data": {
      "text/html": [
       "<table border=\"1\" class=\"dataframe\">\n",
       "  <thead>\n",
       "    <tr style=\"text-align: right;\">\n",
       "      <th>text</th>\n",
       "      <th>target</th>\n",
       "    </tr>\n",
       "  </thead>\n",
       "  <tbody>\n",
       "    <tr>\n",
       "      <td>xxbos xxmaj raising xxmaj victor xxmaj vargas : a xxmaj review \\n \\n  xxmaj you know , xxmaj raising xxmaj victor xxmaj vargas is like sticking your hands into a big , xxunk bowl of xxunk . xxmaj it 's warm and gooey , but you 're not sure if it feels right . xxmaj try as i might , no matter how warm and gooey xxmaj raising xxmaj</td>\n",
       "      <td>negative</td>\n",
       "    </tr>\n",
       "    <tr>\n",
       "      <td>xxbos xxup the xxup shop xxup around xxup the xxup corner is one of the sweetest and most feel - good romantic comedies ever made . xxmaj there 's just no getting around that , and it 's hard to actually put one 's feeling for this film into words . xxmaj it 's not one of those films that tries too hard , nor does it come up with</td>\n",
       "      <td>positive</td>\n",
       "    </tr>\n",
       "    <tr>\n",
       "      <td>xxbos xxmaj this film sat on my xxmaj tivo for weeks before i watched it . i dreaded a self - indulgent xxunk flick about relationships gone bad . i was wrong ; this was an xxunk xxunk into the screwed - up xxunk of xxmaj new xxmaj yorkers . \\n \\n  xxmaj the format is the same as xxmaj max xxmaj xxunk ' \" xxmaj la xxmaj ronde</td>\n",
       "      <td>positive</td>\n",
       "    </tr>\n",
       "    <tr>\n",
       "      <td>xxbos xxmaj many neglect that this is n't just a classic due to the fact that it 's the first xxup 3d game , or even the first xxunk - up . xxmaj it 's also one of the first stealth games , one of the xxunk definitely the first ) truly claustrophobic games , and just a pretty well - rounded gaming experience in general . xxmaj with graphics</td>\n",
       "      <td>positive</td>\n",
       "    </tr>\n",
       "    <tr>\n",
       "      <td>xxbos i really wanted to love this show . i truly , honestly did . \\n \\n  xxmaj for the first time , gay viewers get their own version of the \" xxmaj the xxmaj bachelor \" . xxmaj with the help of his obligatory \" hag \" xxmaj xxunk , xxmaj james , a good looking , well - to - do thirty - something has the chance</td>\n",
       "      <td>negative</td>\n",
       "    </tr>\n",
       "  </tbody>\n",
       "</table>"
      ],
      "text/plain": [
       "<IPython.core.display.HTML object>"
      ]
     },
     "metadata": {},
     "output_type": "display_data"
    }
   ],
   "source": [
    "data.show_batch()"
   ]
  },
  {
   "cell_type": "markdown",
   "metadata": {},
   "source": [
    "#### 2. Numericalization"
   ]
  },
  {
   "cell_type": "code",
   "execution_count": 71,
   "metadata": {},
   "outputs": [
    {
     "data": {
      "text/plain": [
       "['xxunk',\n",
       " 'xxpad',\n",
       " 'xxbos',\n",
       " 'xxeos',\n",
       " 'xxfld',\n",
       " 'xxmaj',\n",
       " 'xxup',\n",
       " 'xxrep',\n",
       " 'xxwrep',\n",
       " 'the']"
      ]
     },
     "execution_count": 71,
     "metadata": {},
     "output_type": "execute_result"
    }
   ],
   "source": [
    "data.vocab.itos[:10]"
   ]
  },
  {
   "cell_type": "code",
   "execution_count": 72,
   "metadata": {},
   "outputs": [
    {
     "data": {
      "text/plain": [
       "Text xxbos xxmaj why should you watch this ? xxmaj there are certainly no reasons why you should n't watch it ! xxmaj superbly and amusingly directed by xxmaj albert and xxmaj david xxmaj maysles , xxmaj grey xxmaj gardens was originally intended to be a film on the xxunk of xxmaj east xxmaj xxunk , but it turned out to the brothers that it would be more interesting to produce a study on the eccentric life of the two xxmaj edith xxmaj bouvier xxmaj beales , the aunt and cousin of xxmaj xxunk xxmaj kennedy xxmaj xxunk . xxmaj their life was certainly an amusing one ( xxmaj edith spent most of her day in bed singing xxunk , xxmaj edie xxunk xxunk and xxunk dances with their many cats , one was named xxmaj ted xxup xxunk xxmaj kennedy ) xxmaj the film is interesting because it is both funny and sad - xxmaj edith died shortly after the film was released ( in xxmaj xxunk 1977 ) aged 82 after experiencing some of the fame that she and xxmaj edie received after the film ( she xxunk and xxunk in a xxunk xxmaj edie xxmaj xxunk xxmaj jr was born in xxunk and is still living in xxmaj xxunk xxmaj beach . xxmaj this film is both engaging and xxunk ."
      ]
     },
     "execution_count": 72,
     "metadata": {},
     "output_type": "execute_result"
    }
   ],
   "source": [
    "data.train_ds[0][0]"
   ]
  },
  {
   "cell_type": "code",
   "execution_count": 92,
   "metadata": {},
   "outputs": [
    {
     "data": {
      "text/plain": [
       "array([  2,   5, 162, 150,  33, 120,  21,  68,   5,  55])"
      ]
     },
     "execution_count": 92,
     "metadata": {},
     "output_type": "execute_result"
    }
   ],
   "source": [
    "data.train_ds[0][0].data[:10]"
   ]
  },
  {
   "cell_type": "markdown",
   "metadata": {},
   "source": [
    "#### 3. Data Block API"
   ]
  },
  {
   "cell_type": "code",
   "execution_count": 102,
   "metadata": {},
   "outputs": [
    {
     "data": {
      "text/html": [],
      "text/plain": [
       "<IPython.core.display.HTML object>"
      ]
     },
     "metadata": {},
     "output_type": "display_data"
    },
    {
     "data": {
      "text/html": [],
      "text/plain": [
       "<IPython.core.display.HTML object>"
      ]
     },
     "metadata": {},
     "output_type": "display_data"
    }
   ],
   "source": [
    "data = (TextList.from_csv(path, 'texts.csv', cols = 'text')\n",
    "                .split_from_df(col = 2)\n",
    "                .label_from_df(cols = 0)\n",
    "                .databunch()\n",
    "       )"
   ]
  },
  {
   "cell_type": "markdown",
   "metadata": {},
   "source": [
    "#### 4a. Language Model"
   ]
  },
  {
   "cell_type": "code",
   "execution_count": 4,
   "metadata": {},
   "outputs": [
    {
     "data": {
      "text/plain": [
       "[PosixPath('/userhome/34/h3509807/.fastai/data/imdb/tmp_lm'),\n",
       " PosixPath('/userhome/34/h3509807/.fastai/data/imdb/test'),\n",
       " PosixPath('/userhome/34/h3509807/.fastai/data/imdb/data_lm.pkl'),\n",
       " PosixPath('/userhome/34/h3509807/.fastai/data/imdb/train'),\n",
       " PosixPath('/userhome/34/h3509807/.fastai/data/imdb/models'),\n",
       " PosixPath('/userhome/34/h3509807/.fastai/data/imdb/tmp_clas'),\n",
       " PosixPath('/userhome/34/h3509807/.fastai/data/imdb/unsup'),\n",
       " PosixPath('/userhome/34/h3509807/.fastai/data/imdb/README'),\n",
       " PosixPath('/userhome/34/h3509807/.fastai/data/imdb/imdb.vocab')]"
      ]
     },
     "execution_count": 4,
     "metadata": {},
     "output_type": "execute_result"
    }
   ],
   "source": [
    "bs = 48\n",
    "path = untar_data(URLs.IMDB)\n",
    "path.ls()"
   ]
  },
  {
   "cell_type": "code",
   "execution_count": null,
   "metadata": {
    "scrolled": true
   },
   "outputs": [],
   "source": [
    "data_lm = (TextList.from_folder(path)\n",
    "           #Inputs: all the text files in path\n",
    "            .filter_by_folder(include=['train', 'test', 'unsup']) \n",
    "           #We may have other temp folders that contain text files so we only keep what's in train and test\n",
    "            .split_by_rand_pct(0.1)\n",
    "           #We randomly split and keep 10% (10,000 reviews) for validation\n",
    "            .label_for_lm()           \n",
    "           #We want to do a language model so we label accordingly\n",
    "            .databunch(bs=bs))\n",
    "data_lm.save('data_lm.pkl')"
   ]
  },
  {
   "cell_type": "code",
   "execution_count": 7,
   "metadata": {},
   "outputs": [],
   "source": [
    "data_lm = load_data(path, 'data_lm.pkl', bs = bs)"
   ]
  },
  {
   "cell_type": "code",
   "execution_count": 8,
   "metadata": {
    "scrolled": true
   },
   "outputs": [
    {
     "data": {
      "text/html": [
       "<table border=\"1\" class=\"dataframe\">\n",
       "  <thead>\n",
       "    <tr style=\"text-align: right;\">\n",
       "      <th>idx</th>\n",
       "      <th>text</th>\n",
       "    </tr>\n",
       "  </thead>\n",
       "  <tbody>\n",
       "    <tr>\n",
       "      <td>0</td>\n",
       "      <td>it 'll soon be 10 yrs since this movie was released xxrep 4 . still makes me laugh xxrep 4 . xxmaj if u enjoy this film , try the new xxmaj hera xxmaj pheri xxrep 4 . xxunk as hilarious . xxmaj and my favourite bit of the film must be when xxmaj salman realises that he has no bullets left in his gun while he has the upper</td>\n",
       "    </tr>\n",
       "    <tr>\n",
       "      <td>1</td>\n",
       "      <td>xxmaj told with unflinching eye and with gripping style . xxmaj if you think conspiracy theories are for paranoid disturbed people , this could change your mind . xxmaj something for you feds too : a good model for government coverups ! xxmaj if you like your news all tidy and easy to consume this is not for you . xxbos xxmaj this game is an action / adventure with</td>\n",
       "    </tr>\n",
       "    <tr>\n",
       "      <td>2</td>\n",
       "      <td>network contact that the show would be canceled , after their delivery of the first episode . xxmaj basically , the show was never given any chance . xxmaj typical xxmaj hollywood . xxmaj the contact apparently told the team that the problem with the show was that , for the show to be funny , the viewer would actually need to watch it ; most shows are presented on</td>\n",
       "    </tr>\n",
       "    <tr>\n",
       "      <td>3</td>\n",
       "      <td>a xxup duckling ( xxmaj lucio xxmaj fulci - xxmaj italy 1972 ) . \\n \\n  xxmaj definitely a prime candidate for the most insane movie title ever conceived and that 's quite an achievement in giallo - land . xxmaj originally , the film was titled even more absurdly , \" xxmaj do n't xxmaj torture xxmaj donald xxmaj duck \" , literally translated from its xxmaj italian</td>\n",
       "    </tr>\n",
       "    <tr>\n",
       "      <td>4</td>\n",
       "      <td>pre - xxmaj pulp xxmaj fiction days ; it looks like xxmaj harlin , as in xxmaj cutthroat xxmaj island , made every effort so that no - one would upstage his then wife . xxmaj her character is by far the best of the film and this fact only makes you feel even more frustrated that they were n't able to do something better with it . \\n \\n</td>\n",
       "    </tr>\n",
       "  </tbody>\n",
       "</table>"
      ],
      "text/plain": [
       "<IPython.core.display.HTML object>"
      ]
     },
     "metadata": {},
     "output_type": "display_data"
    }
   ],
   "source": [
    "data_lm.show_batch()"
   ]
  },
  {
   "cell_type": "code",
   "execution_count": 9,
   "metadata": {},
   "outputs": [],
   "source": [
    "learn = language_model_learner(data_lm, AWD_LSTM, drop_mult=0.3)"
   ]
  },
  {
   "cell_type": "code",
   "execution_count": 170,
   "metadata": {},
   "outputs": [
    {
     "data": {
      "text/html": [
       "\n",
       "    <div>\n",
       "        <style>\n",
       "            /* Turns off some styling */\n",
       "            progress {\n",
       "                /* gets rid of default border in Firefox and Opera. */\n",
       "                border: none;\n",
       "                /* Needs to be in here for Safari polyfill so background images work as expected. */\n",
       "                background-size: auto;\n",
       "            }\n",
       "            .progress-bar-interrupted, .progress-bar-interrupted::-webkit-progress-bar {\n",
       "                background: #F44336;\n",
       "            }\n",
       "        </style>\n",
       "      <progress value='0' class='' max='1', style='width:300px; height:20px; vertical-align: middle;'></progress>\n",
       "      0.00% [0/1 00:00<00:00]\n",
       "    </div>\n",
       "    \n",
       "<table border=\"1\" class=\"dataframe\">\n",
       "  <thead>\n",
       "    <tr style=\"text-align: left;\">\n",
       "      <th>epoch</th>\n",
       "      <th>train_loss</th>\n",
       "      <th>valid_loss</th>\n",
       "      <th>accuracy</th>\n",
       "      <th>time</th>\n",
       "    </tr>\n",
       "  </thead>\n",
       "  <tbody>\n",
       "  </tbody>\n",
       "</table><p>\n",
       "\n",
       "    <div>\n",
       "        <style>\n",
       "            /* Turns off some styling */\n",
       "            progress {\n",
       "                /* gets rid of default border in Firefox and Opera. */\n",
       "                border: none;\n",
       "                /* Needs to be in here for Safari polyfill so background images work as expected. */\n",
       "                background-size: auto;\n",
       "            }\n",
       "            .progress-bar-interrupted, .progress-bar-interrupted::-webkit-progress-bar {\n",
       "                background: #F44336;\n",
       "            }\n",
       "        </style>\n",
       "      <progress value='99' class='' max='8061', style='width:300px; height:20px; vertical-align: middle;'></progress>\n",
       "      1.23% [99/8061 01:00<1:20:35 11.6408]\n",
       "    </div>\n",
       "    "
      ],
      "text/plain": [
       "<IPython.core.display.HTML object>"
      ]
     },
     "metadata": {},
     "output_type": "display_data"
    },
    {
     "name": "stdout",
     "output_type": "stream",
     "text": [
      "LR Finder is complete, type {learner_name}.recorder.plot() to see the graph.\n"
     ]
    }
   ],
   "source": [
    "learn.lr_find()"
   ]
  },
  {
   "cell_type": "code",
   "execution_count": 171,
   "metadata": {},
   "outputs": [
    {
     "data": {
      "image/png": "[encoded data removed]",
      "text/plain": [
       "<Figure size 432x288 with 1 Axes>"
      ]
     },
     "metadata": {
      "needs_background": "light"
     },
     "output_type": "display_data"
    }
   ],
   "source": [
    "learn.recorder.plot(skip_end=15)"
   ]
  },
  {
   "cell_type": "code",
   "execution_count": 174,
   "metadata": {},
   "outputs": [
    {
     "data": {
      "text/html": [
       "<table border=\"1\" class=\"dataframe\">\n",
       "  <thead>\n",
       "    <tr style=\"text-align: left;\">\n",
       "      <th>epoch</th>\n",
       "      <th>train_loss</th>\n",
       "      <th>valid_loss</th>\n",
       "      <th>accuracy</th>\n",
       "      <th>time</th>\n",
       "    </tr>\n",
       "  </thead>\n",
       "  <tbody>\n",
       "    <tr>\n",
       "      <td>0</td>\n",
       "      <td>4.155055</td>\n",
       "      <td>4.015922</td>\n",
       "      <td>0.295924</td>\n",
       "      <td>26:33</td>\n",
       "    </tr>\n",
       "  </tbody>\n",
       "</table>"
      ],
      "text/plain": [
       "<IPython.core.display.HTML object>"
      ]
     },
     "metadata": {},
     "output_type": "display_data"
    }
   ],
   "source": [
    "learn.fit_one_cycle(1, 1e-2, moms=(0.8,0.7))"
   ]
  },
  {
   "cell_type": "code",
   "execution_count": 175,
   "metadata": {},
   "outputs": [],
   "source": [
    "learn.save('fit_head')"
   ]
  },
  {
   "cell_type": "code",
   "execution_count": 7,
   "metadata": {},
   "outputs": [],
   "source": [
    "learn.load('fit_head');"
   ]
  },
  {
   "cell_type": "code",
   "execution_count": null,
   "metadata": {},
   "outputs": [
    {
     "data": {
      "text/html": [
       "\n",
       "    <div>\n",
       "        <style>\n",
       "            /* Turns off some styling */\n",
       "            progress {\n",
       "                /* gets rid of default border in Firefox and Opera. */\n",
       "                border: none;\n",
       "                /* Needs to be in here for Safari polyfill so background images work as expected. */\n",
       "                background-size: auto;\n",
       "            }\n",
       "            .progress-bar-interrupted, .progress-bar-interrupted::-webkit-progress-bar {\n",
       "                background: #F44336;\n",
       "            }\n",
       "        </style>\n",
       "      <progress value='4' class='' max='8', style='width:300px; height:20px; vertical-align: middle;'></progress>\n",
       "      50.00% [4/8 1:46:56<1:46:56]\n",
       "    </div>\n",
       "    \n",
       "<table border=\"1\" class=\"dataframe\">\n",
       "  <thead>\n",
       "    <tr style=\"text-align: left;\">\n",
       "      <th>epoch</th>\n",
       "      <th>train_loss</th>\n",
       "      <th>valid_loss</th>\n",
       "      <th>accuracy</th>\n",
       "      <th>time</th>\n",
       "    </tr>\n",
       "  </thead>\n",
       "  <tbody>\n",
       "    <tr>\n",
       "      <td>0</td>\n",
       "      <td>4.459061</td>\n",
       "      <td>4.375064</td>\n",
       "      <td>0.281552</td>\n",
       "      <td>26:31</td>\n",
       "    </tr>\n",
       "    <tr>\n",
       "      <td>1</td>\n",
       "      <td>4.056115</td>\n",
       "      <td>3.985936</td>\n",
       "      <td>0.309658</td>\n",
       "      <td>26:49</td>\n",
       "    </tr>\n",
       "    <tr>\n",
       "      <td>2</td>\n",
       "      <td>3.936169</td>\n",
       "      <td>3.864319</td>\n",
       "      <td>0.319501</td>\n",
       "      <td>26:44</td>\n",
       "    </tr>\n",
       "    <tr>\n",
       "      <td>3</td>\n",
       "      <td>3.849539</td>\n",
       "      <td>3.798418</td>\n",
       "      <td>0.325504</td>\n",
       "      <td>26:49</td>\n",
       "    </tr>\n",
       "  </tbody>\n",
       "</table><p>\n",
       "\n",
       "    <div>\n",
       "        <style>\n",
       "            /* Turns off some styling */\n",
       "            progress {\n",
       "                /* gets rid of default border in Firefox and Opera. */\n",
       "                border: none;\n",
       "                /* Needs to be in here for Safari polyfill so background images work as expected. */\n",
       "                background-size: auto;\n",
       "            }\n",
       "            .progress-bar-interrupted, .progress-bar-interrupted::-webkit-progress-bar {\n",
       "                background: #F44336;\n",
       "            }\n",
       "        </style>\n",
       "      <progress value='1407' class='' max='8052', style='width:300px; height:20px; vertical-align: middle;'></progress>\n",
       "      17.47% [1407/8052 04:32<21:25 3.7546]\n",
       "    </div>\n",
       "    "
      ],
      "text/plain": [
       "<IPython.core.display.HTML object>"
      ]
     },
     "metadata": {},
     "output_type": "display_data"
    }
   ],
   "source": [
    "learn.unfreeze()\n",
    "learn.fit_one_cycle(8, 1e-3, moms=(0.8,0.7))"
   ]
  },
  {
   "cell_type": "code",
   "execution_count": null,
   "metadata": {},
   "outputs": [],
   "source": [
    "learn.save('fine_tuned')"
   ]
  },
  {
   "cell_type": "code",
   "execution_count": 10,
   "metadata": {
    "collapsed": true
   },
   "outputs": [
    {
     "data": {
      "text/plain": [
       "LanguageLearner(data=TextLMDataBunch;\n",
       "\n",
       "Train: LabelList (90000 items)\n",
       "x: LMTextList\n",
       "xxbos i thought this movie was brilliant . xxmaj it was so funny and so true too . a great idea for a movie . xxmaj five groups of friends on their way to schoolies . i 've got to say that xxmaj matt xxmaj newton as xxmaj mason was probably my favourite character . i wish i could give this movie more than a 10 rating .,xxbos xxmaj it 'll soon be 10 yrs since this movie was released xxrep 4 . still makes me laugh xxrep 4 . xxmaj if u enjoy this film , try the new xxmaj hera xxmaj pheri xxrep 4 . xxunk as hilarious . xxmaj and my favourite bit of the film must be when xxmaj salman realises that he has no bullets left in his gun while he has the upper hand and has everyone at gun point ... and he actually says it out loud ! ! ! u just wanna bash him xxrep 4 . but u know u can only do that if u stop laughing xxrep 4 ! xxmaj fantastic film xxrep 4 . 10 / 10,xxbos xxmaj we do n't know why this extraordinary film was never made available officially on xxup dvd ... xxmaj anthony xxmaj quinn 's performance alone makes this a must - see . xxmaj there are relatively few films in which an actor identifies so profoundly with his character , a phenomenon always unique for us , moviegoers . \n",
       " \n",
       "  xxmaj but xxmaj quinn 's powerful portrayal of an innocent xxmaj romanian , literally dragged out of his house and everyday life by forces he can not comprehend , is only part of what makes this film great . xxmaj the script is based on a book published in xxmaj paris by a xxmaj romanian priest who fled the xxmaj communist take - over of his country , and the film succeeds to go deep into a little known area of xxmaj east - xxmaj european history . xxmaj told as a succession of xxmaj kafka - esquire twists of fate , the misadventures of xxmaj johann xxmaj moritz ( told openly and honestly , without any of the political correctness currently so precious in xxmaj hollywood ) are in fact a eulogy for the lost innocence of the xxmaj romanian people ... it is devilishly ironic that this eulogy is signed by a xxmaj french director , working with the xxmaj american money of an xxmaj italian producer , and overseeing a multinational cast fronted by an extraordinary xxmaj mexican - born thespian . \n",
       " \n",
       "  i 've seen mentions of vcds of this film in various xxmaj asian internet stores , and i was fortunate to take possession of a digital recording of this film , broadcast on the xxmaj british version of xxup tcm . xxmaj but it 's a shame that \" xxmaj the 25th xxmaj hour \" is n't anywhere on the future xxup dvd release map of xxup mgm studios .,xxbos xxmaj this truly is an xxmaj australia cult classic . xxmaj if you 're one of the lucky ones to have seen it-- then you are very lucky . xxmaj it has been released in most countries , but not in xxmaj australia for some reason . i have a copy on xxup dvd from the xxup uk . xxmaj not a great transfer , but i bought it , having seen it previously at a film festival . xxmaj the directing is spot on and the performances rock ! xxmaj this is dark film scary film , but often times , very funny in parts . i urge you to see this film , there is a coolness about this you do n't see in 99 % of the typical xxmaj aussie fare . xxmaj the screenplay is very well crafted and sends you on a journey where you know it will end badly , but until the last ten minutes , you just ca n't pick how badly . xxmaj great work from the four leads , especially xxmaj lachy xxmaj hulme . \n",
       " \n",
       "  xxmaj when its all said and done : xxmaj great work on display !,xxbos xxmaj ida xxmaj lupino is trapped in her own home by crazy xxmaj robert xxmaj ryan in \" xxmaj beware , xxmaj my xxmaj lovely , \" a 1952 film from xxup rko . xxmaj lupino and xxmaj ryan did three films together and worked well as a team , both being consummate professionals and strong performers . xxmaj in this film , based on a xxmaj broadway play called \" xxmaj the xxmaj man , \" xxmaj lupino is a xxmaj world xxmaj war i widow who rents out a room in her home . xxmaj she 's very active and well - liked in her community and though her husband has been dead for two years , she 's not ready to move on . xxmaj the man who rents her room goes on vacation , and xxmaj lupino hires xxmaj robert xxmaj ryan to help her with some heavy - duty cleaning in the house . xxmaj he 's friendly enough to start , but later terrorizes her , locking her in the house , and not allowing her to answer the phone or the door , as he grows violent and more out of touch with reality . \n",
       " \n",
       "  xxmaj the character played by xxmaj ryan is shown in the beginning of the movie running away when he discovers a dead body in another house he 's working in . xxmaj it is n't clear whether or not he 's the killer , since he seems surprised to see the body . xxmaj he might be a split personality , as when his personality turns ugly toward xxmaj lupino , he seems to have no memory of his activities when he comes out of it . xxmaj he does n't know that he has the keys to xxmaj lupino 's house in his pocket and does n't know why he has tickets to a party that he bought from young children who came to the door . \n",
       " \n",
       "  \" xxmaj beware , xxmaj my xxmaj lovely , \" is a very suspenseful film , and the two leads give terrific performances . xxmaj the tension builds to a very high level and ends in a way you 're not expecting .\n",
       "y: LMLabelList\n",
       ",,,,\n",
       "Path: /userhome/34/h3509807/.fastai/data/imdb;\n",
       "\n",
       "Valid: LabelList (10000 items)\n",
       "x: LMTextList\n",
       "xxbos i do n't know if the story 's true - it might be . xxmaj makes you think . xxmaj at times makes you even feel that it is real - right in very front of you . \n",
       " \n",
       "  i found myself from all the hiding games . xxmaj the boy 's events were partly an adventure - playing hide and seek with the gestapo ( panthers ) all by himself with his assistant xxmaj snow ( xxmaj friday ) . xxmaj and partly a nightmare where the war grips everything away and leaves you no choice but to crawl into your hideout and cry . xxmaj you really xxunk for the kid when soldiers come to find the last of the xxmaj jews again and again and again ... \n",
       " \n",
       "  i think the director made quite a decent job ( at least above the average ) by telling the story so visually . xxmaj not too much talking here - and it is mostly in xxmaj english , which is odd . xxmaj although some scenes i would 've done differently . \n",
       " \n",
       "  i did n't know the composer was xxunk until read it here , but you sure will notice a meister at work . xxmaj at least when the ending credits roll .,xxbos xxmaj the first scene of this movie is the best scene , and as soon as it 's over the movie falls flat on its face and never gets up . xxmaj darrell xxmaj hammond and xxmaj dave xxmaj foley are the only things worth watching in this movie , and they are given almost nothing to do . xxmaj at some point , the producers should have realized what was going on , thrown out the script , and let xxmaj hammond and xxmaj foley improv their own movie . xxmaj whatever they 'd have come up with would have been miles better than the xxunk that this film is . \n",
       " \n",
       "  xxmaj what is the problem ? xxmaj well , for one thing , this is one of those \" vampire \" stories where the writers think they have to cleverly re - invent the vampire mythos for the hundredth time . xxmaj and in this case , their re - invention is not at all clever , and is so contrived that the movie has to be narrated , so they can endlessly explain their idea of how the vampire thing works . xxmaj it takes a lot away from the flow of the film . xxmaj you 'd like to see the story unfold , but the idiotic protagonist has to keep interrupting with dumb little explanations , of dumb ideas , accompanied by cartoons and dumb 50 's music . \n",
       " \n",
       "  xxmaj if you do n't like narrated movies , or sci - fi nerd movies , you wo n't have any patience for this kind of thing . \n",
       " \n",
       "  xxmaj the story is lame and dull . xxmaj only xxmaj darrell xxmaj hammond and xxmaj dave xxmaj foley are worth watching , even though xxmaj foley is tragically underused yet again . xxmaj amy xxmaj davidson plays a temp who follows movie logic and immediately hits on the nerd protagonist , again a nerd movie trope . xxmaj in reality , hot young temps do n't come on to whatever xxunk showed them around on their first day . xxmaj she also has one of the most embarrassingly stupid scenes in recent movie memory , where she has a little monologue about how much xxunk turn her on . i ca n't respect any actress who was n't smart enough to turn down a part like this . \n",
       " \n",
       "  xxmaj steve xxmaj burns as the protagonist is just in the way . a xxmaj simon xxmaj pegg wannabe .,xxbos xxmaj this is a very \" right on case \" movie that delivers everything almost right in your face . i 'm a xxmaj christian and liked the film in one way . xxmaj it had some average acting from the main person , and it was a low budget as you clearly can see . xxmaj it can be a bit long - winded , but the film has some quite nice cars that rescues it from a lower rating from me . xxmaj as a xxmaj christian film it was quite good , but maybe a bit right - on in the message . xxmaj the film works best on a big screen . * xxup spoilers * xxmaj the fighting scene with the two brothers can remind you of the fighting scene between the two brothers in the xxmaj christian thriller \" xxmaj mercy xxmaj streets \" starring xxmaj eric xxunk of xxmaj spoiler * i give it a 7 / 10 .,xxbos xxmaj look into a mirror , preferably alone at night , and say \" candy - man \" 5 times and ... uh ... see what happens . xxmaj little known xxmaj bernard xxmaj rose directed this terrifying horror / suspense / thriller set and filmed in xxmaj chicago . xxmaj the story is adapted from a novel by horror master xxmaj clive xxmaj barker . xxmaj two attractive female graduate students research an urban \" myth \" only to discover it may not be a myth , or is it ? xxmaj that 's the premise of this tightly written and directed film , which does for looking into mirrors what xxmaj psycho did for taking showers . xxmaj this is a thinking man 's horror film that scares the daylights out of you at times while still leading you to think beyond what 's on the screen . \n",
       " \n",
       "  xxmaj it 's much more than just a horror film with a creepy man goring people to death . xxmaj it exploits many of our deepest fears about society and in ourselves , such as : what can happen in a run down public housing complex ( xxmaj chicago 's notorious xxmaj cabrini - xxmaj green projects ) , and can our fears remove the certainty of what we know to be untrue ? xxmaj rose expertly weaves in xxmaj hitchcockian themes of being wrongly accused , emotional vulnerability , and psychological exploitation , while maintaining interest and building a high level of tension throughout the film . xxmaj philip xxmaj glass ' quasi - religious score consistently provides an eerie companion when the camera takes us into seemingly normal locations , like a public restroom for instance . xxmaj truly one of the very best horror films of the 90 's that can disturb your thoughts , penetrate your sense of security , and still provide disturbing gore and violence . xxmaj this film is not for the faint of heart . xxmaj virginia xxmaj madsen stars as the main character and does n't strike a false note . xxmaj tony xxmaj todd is the candy - man , and he does n't appear to deliver xxunk . xxmaj do n't look behind you ! * * * of 4 stars .,xxbos xxmaj this movie had all the elements to be a smart , sparkling comedy , but for some reason it took the dumbass route . xxmaj perhaps it did n't really know who its audience was : but it 's hardly a man 's movie given the cast and plot , yet is too slapstick and dumb - blonde to appeal fully to women . \n",
       " \n",
       "  xxmaj if you have seen xxmaj legally xxmaj blonde and its sequel , then this is like the bewilderingly awful sequel . xxmaj great actors such as xxmaj luke xxmaj wilson should expect better material . xxmaj jessica xxmaj simpson could also have managed so much more . xxmaj rachael xxmaj leigh xxmaj cook and xxmaj penelope xxmaj anne xxmaj miller languish in supporting roles that are silly rather than amusing . \n",
       " \n",
       "  xxmaj many things in this movie were paint - by - numbers , the various uber - cliché montages , the last minute \" misunderstanding \" , even the kids ' party chaos . xxmaj this just suggests lazy scriptwriting . \n",
       " \n",
       "  xxmaj it should be possible to find this movie enjoyable if you do n't take it seriously , but it 's such a glaring could - do - better than you 'll likely feel frustrated and increasingly disappointed as the scenes roll past .\n",
       "y: LMLabelList\n",
       ",,,,\n",
       "Path: /userhome/34/h3509807/.fastai/data/imdb;\n",
       "\n",
       "Test: None, model=SequentialRNN(\n",
       "  (0): AWD_LSTM(\n",
       "    (encoder): Embedding(60000, 400, padding_idx=1)\n",
       "    (encoder_dp): EmbeddingDropout(\n",
       "      (emb): Embedding(60000, 400, padding_idx=1)\n",
       "    )\n",
       "    (rnns): ModuleList(\n",
       "      (0): WeightDropout(\n",
       "        (module): LSTM(400, 1152, batch_first=True)\n",
       "      )\n",
       "      (1): WeightDropout(\n",
       "        (module): LSTM(1152, 1152, batch_first=True)\n",
       "      )\n",
       "      (2): WeightDropout(\n",
       "        (module): LSTM(1152, 400, batch_first=True)\n",
       "      )\n",
       "    )\n",
       "    (input_dp): RNNDropout()\n",
       "    (hidden_dps): ModuleList(\n",
       "      (0): RNNDropout()\n",
       "      (1): RNNDropout()\n",
       "      (2): RNNDropout()\n",
       "    )\n",
       "  )\n",
       "  (1): LinearDecoder(\n",
       "    (decoder): Linear(in_features=400, out_features=60000, bias=True)\n",
       "    (output_dp): RNNDropout()\n",
       "  )\n",
       "), opt_func=functools.partial(<class 'torch.optim.adam.Adam'>, betas=(0.9, 0.99)), loss_func=FlattenedLoss of CrossEntropyLoss(), metrics=[<function accuracy at 0x7f89d3c7f158>], true_wd=True, bn_wd=True, wd=0.01, train_bn=True, path=PosixPath('/userhome/34/h3509807/.fastai/data/imdb'), model_dir='models', callback_fns=[functools.partial(<class 'fastai.basic_train.Recorder'>, add_time=True, silent=False)], callbacks=[RNNTrainer\n",
       "learn: LanguageLearner(data=TextLMDataBunch;\n",
       "\n",
       "Train: LabelList (90000 items)\n",
       "x: LMTextList\n",
       "xxbos i thought this movie was brilliant . xxmaj it was so funny and so true too . a great idea for a movie . xxmaj five groups of friends on their way to schoolies . i 've got to say that xxmaj matt xxmaj newton as xxmaj mason was probably my favourite character . i wish i could give this movie more than a 10 rating .,xxbos xxmaj it 'll soon be 10 yrs since this movie was released xxrep 4 . still makes me laugh xxrep 4 . xxmaj if u enjoy this film , try the new xxmaj hera xxmaj pheri xxrep 4 . xxunk as hilarious . xxmaj and my favourite bit of the film must be when xxmaj salman realises that he has no bullets left in his gun while he has the upper hand and has everyone at gun point ... and he actually says it out loud ! ! ! u just wanna bash him xxrep 4 . but u know u can only do that if u stop laughing xxrep 4 ! xxmaj fantastic film xxrep 4 . 10 / 10,xxbos xxmaj we do n't know why this extraordinary film was never made available officially on xxup dvd ... xxmaj anthony xxmaj quinn 's performance alone makes this a must - see . xxmaj there are relatively few films in which an actor identifies so profoundly with his character , a phenomenon always unique for us , moviegoers . \n",
       " \n",
       "  xxmaj but xxmaj quinn 's powerful portrayal of an innocent xxmaj romanian , literally dragged out of his house and everyday life by forces he can not comprehend , is only part of what makes this film great . xxmaj the script is based on a book published in xxmaj paris by a xxmaj romanian priest who fled the xxmaj communist take - over of his country , and the film succeeds to go deep into a little known area of xxmaj east - xxmaj european history . xxmaj told as a succession of xxmaj kafka - esquire twists of fate , the misadventures of xxmaj johann xxmaj moritz ( told openly and honestly , without any of the political correctness currently so precious in xxmaj hollywood ) are in fact a eulogy for the lost innocence of the xxmaj romanian people ... it is devilishly ironic that this eulogy is signed by a xxmaj french director , working with the xxmaj american money of an xxmaj italian producer , and overseeing a multinational cast fronted by an extraordinary xxmaj mexican - born thespian . \n",
       " \n",
       "  i 've seen mentions of vcds of this film in various xxmaj asian internet stores , and i was fortunate to take possession of a digital recording of this film , broadcast on the xxmaj british version of xxup tcm . xxmaj but it 's a shame that \" xxmaj the 25th xxmaj hour \" is n't anywhere on the future xxup dvd release map of xxup mgm studios .,xxbos xxmaj this truly is an xxmaj australia cult classic . xxmaj if you 're one of the lucky ones to have seen it-- then you are very lucky . xxmaj it has been released in most countries , but not in xxmaj australia for some reason . i have a copy on xxup dvd from the xxup uk . xxmaj not a great transfer , but i bought it , having seen it previously at a film festival . xxmaj the directing is spot on and the performances rock ! xxmaj this is dark film scary film , but often times , very funny in parts . i urge you to see this film , there is a coolness about this you do n't see in 99 % of the typical xxmaj aussie fare . xxmaj the screenplay is very well crafted and sends you on a journey where you know it will end badly , but until the last ten minutes , you just ca n't pick how badly . xxmaj great work from the four leads , especially xxmaj lachy xxmaj hulme . \n",
       " \n",
       "  xxmaj when its all said and done : xxmaj great work on display !,xxbos xxmaj ida xxmaj lupino is trapped in her own home by crazy xxmaj robert xxmaj ryan in \" xxmaj beware , xxmaj my xxmaj lovely , \" a 1952 film from xxup rko . xxmaj lupino and xxmaj ryan did three films together and worked well as a team , both being consummate professionals and strong performers . xxmaj in this film , based on a xxmaj broadway play called \" xxmaj the xxmaj man , \" xxmaj lupino is a xxmaj world xxmaj war i widow who rents out a room in her home . xxmaj she 's very active and well - liked in her community and though her husband has been dead for two years , she 's not ready to move on . xxmaj the man who rents her room goes on vacation , and xxmaj lupino hires xxmaj robert xxmaj ryan to help her with some heavy - duty cleaning in the house . xxmaj he 's friendly enough to start , but later terrorizes her , locking her in the house , and not allowing her to answer the phone or the door , as he grows violent and more out of touch with reality . \n",
       " \n",
       "  xxmaj the character played by xxmaj ryan is shown in the beginning of the movie running away when he discovers a dead body in another house he 's working in . xxmaj it is n't clear whether or not he 's the killer , since he seems surprised to see the body . xxmaj he might be a split personality , as when his personality turns ugly toward xxmaj lupino , he seems to have no memory of his activities when he comes out of it . xxmaj he does n't know that he has the keys to xxmaj lupino 's house in his pocket and does n't know why he has tickets to a party that he bought from young children who came to the door . \n",
       " \n",
       "  \" xxmaj beware , xxmaj my xxmaj lovely , \" is a very suspenseful film , and the two leads give terrific performances . xxmaj the tension builds to a very high level and ends in a way you 're not expecting .\n",
       "y: LMLabelList\n",
       ",,,,\n",
       "Path: /userhome/34/h3509807/.fastai/data/imdb;\n",
       "\n",
       "Valid: LabelList (10000 items)\n",
       "x: LMTextList\n",
       "xxbos i do n't know if the story 's true - it might be . xxmaj makes you think . xxmaj at times makes you even feel that it is real - right in very front of you . \n",
       " \n",
       "  i found myself from all the hiding games . xxmaj the boy 's events were partly an adventure - playing hide and seek with the gestapo ( panthers ) all by himself with his assistant xxmaj snow ( xxmaj friday ) . xxmaj and partly a nightmare where the war grips everything away and leaves you no choice but to crawl into your hideout and cry . xxmaj you really xxunk for the kid when soldiers come to find the last of the xxmaj jews again and again and again ... \n",
       " \n",
       "  i think the director made quite a decent job ( at least above the average ) by telling the story so visually . xxmaj not too much talking here - and it is mostly in xxmaj english , which is odd . xxmaj although some scenes i would 've done differently . \n",
       " \n",
       "  i did n't know the composer was xxunk until read it here , but you sure will notice a meister at work . xxmaj at least when the ending credits roll .,xxbos xxmaj the first scene of this movie is the best scene , and as soon as it 's over the movie falls flat on its face and never gets up . xxmaj darrell xxmaj hammond and xxmaj dave xxmaj foley are the only things worth watching in this movie , and they are given almost nothing to do . xxmaj at some point , the producers should have realized what was going on , thrown out the script , and let xxmaj hammond and xxmaj foley improv their own movie . xxmaj whatever they 'd have come up with would have been miles better than the xxunk that this film is . \n",
       " \n",
       "  xxmaj what is the problem ? xxmaj well , for one thing , this is one of those \" vampire \" stories where the writers think they have to cleverly re - invent the vampire mythos for the hundredth time . xxmaj and in this case , their re - invention is not at all clever , and is so contrived that the movie has to be narrated , so they can endlessly explain their idea of how the vampire thing works . xxmaj it takes a lot away from the flow of the film . xxmaj you 'd like to see the story unfold , but the idiotic protagonist has to keep interrupting with dumb little explanations , of dumb ideas , accompanied by cartoons and dumb 50 's music . \n",
       " \n",
       "  xxmaj if you do n't like narrated movies , or sci - fi nerd movies , you wo n't have any patience for this kind of thing . \n",
       " \n",
       "  xxmaj the story is lame and dull . xxmaj only xxmaj darrell xxmaj hammond and xxmaj dave xxmaj foley are worth watching , even though xxmaj foley is tragically underused yet again . xxmaj amy xxmaj davidson plays a temp who follows movie logic and immediately hits on the nerd protagonist , again a nerd movie trope . xxmaj in reality , hot young temps do n't come on to whatever xxunk showed them around on their first day . xxmaj she also has one of the most embarrassingly stupid scenes in recent movie memory , where she has a little monologue about how much xxunk turn her on . i ca n't respect any actress who was n't smart enough to turn down a part like this . \n",
       " \n",
       "  xxmaj steve xxmaj burns as the protagonist is just in the way . a xxmaj simon xxmaj pegg wannabe .,xxbos xxmaj this is a very \" right on case \" movie that delivers everything almost right in your face . i 'm a xxmaj christian and liked the film in one way . xxmaj it had some average acting from the main person , and it was a low budget as you clearly can see . xxmaj it can be a bit long - winded , but the film has some quite nice cars that rescues it from a lower rating from me . xxmaj as a xxmaj christian film it was quite good , but maybe a bit right - on in the message . xxmaj the film works best on a big screen . * xxup spoilers * xxmaj the fighting scene with the two brothers can remind you of the fighting scene between the two brothers in the xxmaj christian thriller \" xxmaj mercy xxmaj streets \" starring xxmaj eric xxunk of xxmaj spoiler * i give it a 7 / 10 .,xxbos xxmaj look into a mirror , preferably alone at night , and say \" candy - man \" 5 times and ... uh ... see what happens . xxmaj little known xxmaj bernard xxmaj rose directed this terrifying horror / suspense / thriller set and filmed in xxmaj chicago . xxmaj the story is adapted from a novel by horror master xxmaj clive xxmaj barker . xxmaj two attractive female graduate students research an urban \" myth \" only to discover it may not be a myth , or is it ? xxmaj that 's the premise of this tightly written and directed film , which does for looking into mirrors what xxmaj psycho did for taking showers . xxmaj this is a thinking man 's horror film that scares the daylights out of you at times while still leading you to think beyond what 's on the screen . \n",
       " \n",
       "  xxmaj it 's much more than just a horror film with a creepy man goring people to death . xxmaj it exploits many of our deepest fears about society and in ourselves , such as : what can happen in a run down public housing complex ( xxmaj chicago 's notorious xxmaj cabrini - xxmaj green projects ) , and can our fears remove the certainty of what we know to be untrue ? xxmaj rose expertly weaves in xxmaj hitchcockian themes of being wrongly accused , emotional vulnerability , and psychological exploitation , while maintaining interest and building a high level of tension throughout the film . xxmaj philip xxmaj glass ' quasi - religious score consistently provides an eerie companion when the camera takes us into seemingly normal locations , like a public restroom for instance . xxmaj truly one of the very best horror films of the 90 's that can disturb your thoughts , penetrate your sense of security , and still provide disturbing gore and violence . xxmaj this film is not for the faint of heart . xxmaj virginia xxmaj madsen stars as the main character and does n't strike a false note . xxmaj tony xxmaj todd is the candy - man , and he does n't appear to deliver xxunk . xxmaj do n't look behind you ! * * * of 4 stars .,xxbos xxmaj this movie had all the elements to be a smart , sparkling comedy , but for some reason it took the dumbass route . xxmaj perhaps it did n't really know who its audience was : but it 's hardly a man 's movie given the cast and plot , yet is too slapstick and dumb - blonde to appeal fully to women . \n",
       " \n",
       "  xxmaj if you have seen xxmaj legally xxmaj blonde and its sequel , then this is like the bewilderingly awful sequel . xxmaj great actors such as xxmaj luke xxmaj wilson should expect better material . xxmaj jessica xxmaj simpson could also have managed so much more . xxmaj rachael xxmaj leigh xxmaj cook and xxmaj penelope xxmaj anne xxmaj miller languish in supporting roles that are silly rather than amusing . \n",
       " \n",
       "  xxmaj many things in this movie were paint - by - numbers , the various uber - cliché montages , the last minute \" misunderstanding \" , even the kids ' party chaos . xxmaj this just suggests lazy scriptwriting . \n",
       " \n",
       "  xxmaj it should be possible to find this movie enjoyable if you do n't take it seriously , but it 's such a glaring could - do - better than you 'll likely feel frustrated and increasingly disappointed as the scenes roll past .\n",
       "y: LMLabelList\n",
       ",,,,\n",
       "Path: /userhome/34/h3509807/.fastai/data/imdb;\n",
       "\n",
       "Test: None, model=SequentialRNN(\n",
       "  (0): AWD_LSTM(\n",
       "    (encoder): Embedding(60000, 400, padding_idx=1)\n",
       "    (encoder_dp): EmbeddingDropout(\n",
       "      (emb): Embedding(60000, 400, padding_idx=1)\n",
       "    )\n",
       "    (rnns): ModuleList(\n",
       "      (0): WeightDropout(\n",
       "        (module): LSTM(400, 1152, batch_first=True)\n",
       "      )\n",
       "      (1): WeightDropout(\n",
       "        (module): LSTM(1152, 1152, batch_first=True)\n",
       "      )\n",
       "      (2): WeightDropout(\n",
       "        (module): LSTM(1152, 400, batch_first=True)\n",
       "      )\n",
       "    )\n",
       "    (input_dp): RNNDropout()\n",
       "    (hidden_dps): ModuleList(\n",
       "      (0): RNNDropout()\n",
       "      (1): RNNDropout()\n",
       "      (2): RNNDropout()\n",
       "    )\n",
       "  )\n",
       "  (1): LinearDecoder(\n",
       "    (decoder): Linear(in_features=400, out_features=60000, bias=True)\n",
       "    (output_dp): RNNDropout()\n",
       "  )\n",
       "), opt_func=functools.partial(<class 'torch.optim.adam.Adam'>, betas=(0.9, 0.99)), loss_func=FlattenedLoss of CrossEntropyLoss(), metrics=[<function accuracy at 0x7f89d3c7f158>], true_wd=True, bn_wd=True, wd=0.01, train_bn=True, path=PosixPath('/userhome/34/h3509807/.fastai/data/imdb'), model_dir='models', callback_fns=[functools.partial(<class 'fastai.basic_train.Recorder'>, add_time=True, silent=False)], callbacks=[...], layer_groups=[Sequential(\n",
       "  (0): WeightDropout(\n",
       "    (module): LSTM(400, 1152, batch_first=True)\n",
       "  )\n",
       "  (1): RNNDropout()\n",
       "), Sequential(\n",
       "  (0): WeightDropout(\n",
       "    (module): LSTM(1152, 1152, batch_first=True)\n",
       "  )\n",
       "  (1): RNNDropout()\n",
       "), Sequential(\n",
       "  (0): WeightDropout(\n",
       "    (module): LSTM(1152, 400, batch_first=True)\n",
       "  )\n",
       "  (1): RNNDropout()\n",
       "), Sequential(\n",
       "  (0): Embedding(60000, 400, padding_idx=1)\n",
       "  (1): EmbeddingDropout(\n",
       "    (emb): Embedding(60000, 400, padding_idx=1)\n",
       "  )\n",
       "  (2): LinearDecoder(\n",
       "    (decoder): Linear(in_features=400, out_features=60000, bias=True)\n",
       "    (output_dp): RNNDropout()\n",
       "  )\n",
       ")], add_time=True, silent=False)\n",
       "alpha: 2.0\n",
       "beta: 1.0], layer_groups=[Sequential(\n",
       "  (0): WeightDropout(\n",
       "    (module): LSTM(400, 1152, batch_first=True)\n",
       "  )\n",
       "  (1): RNNDropout()\n",
       "), Sequential(\n",
       "  (0): WeightDropout(\n",
       "    (module): LSTM(1152, 1152, batch_first=True)\n",
       "  )\n",
       "  (1): RNNDropout()\n",
       "), Sequential(\n",
       "  (0): WeightDropout(\n",
       "    (module): LSTM(1152, 400, batch_first=True)\n",
       "  )\n",
       "  (1): RNNDropout()\n",
       "), Sequential(\n",
       "  (0): Embedding(60000, 400, padding_idx=1)\n",
       "  (1): EmbeddingDropout(\n",
       "    (emb): Embedding(60000, 400, padding_idx=1)\n",
       "  )\n",
       "  (2): LinearDecoder(\n",
       "    (decoder): Linear(in_features=400, out_features=60000, bias=True)\n",
       "    (output_dp): RNNDropout()\n",
       "  )\n",
       ")], add_time=True, silent=False)"
      ]
     },
     "execution_count": 10,
     "metadata": {},
     "output_type": "execute_result"
    }
   ],
   "source": [
    "learn.load('fine_tuned')"
   ]
  },
  {
   "cell_type": "code",
   "execution_count": 14,
   "metadata": {},
   "outputs": [
    {
     "data": {
      "text/plain": [
       "AWD_LSTM(\n",
       "  (encoder): Embedding(60000, 400, padding_idx=1)\n",
       "  (encoder_dp): EmbeddingDropout(\n",
       "    (emb): Embedding(60000, 400, padding_idx=1)\n",
       "  )\n",
       "  (rnns): ModuleList(\n",
       "    (0): WeightDropout(\n",
       "      (module): LSTM(400, 1152, batch_first=True)\n",
       "    )\n",
       "    (1): WeightDropout(\n",
       "      (module): LSTM(1152, 1152, batch_first=True)\n",
       "    )\n",
       "    (2): WeightDropout(\n",
       "      (module): LSTM(1152, 400, batch_first=True)\n",
       "    )\n",
       "  )\n",
       "  (input_dp): RNNDropout()\n",
       "  (hidden_dps): ModuleList(\n",
       "    (0): RNNDropout()\n",
       "    (1): RNNDropout()\n",
       "    (2): RNNDropout()\n",
       "  )\n",
       ")"
      ]
     },
     "execution_count": 14,
     "metadata": {},
     "output_type": "execute_result"
    }
   ],
   "source": [
    "# encoder part of the LSTM model\n",
    "learn.model[0]"
   ]
  },
  {
   "cell_type": "markdown",
   "metadata": {},
   "source": [
    "#### 4b. Generating Text with Language Model"
   ]
  },
  {
   "cell_type": "code",
   "execution_count": 27,
   "metadata": {},
   "outputs": [],
   "source": [
    "TEXT = 'I liked this movie because'\n",
    "N_WORDS = 20\n",
    "N_SENTENCES = 5"
   ]
  },
  {
   "cell_type": "code",
   "execution_count": 28,
   "metadata": {},
   "outputs": [
    {
     "name": "stdout",
     "output_type": "stream",
     "text": [
      "I liked this movie because it was so fresh and original . Pretty good stuff . i think The Grudge was one\n",
      "I liked this movie because it was a movie about a group of people who are attempting to get together for support . It\n",
      "I liked this movie because of its humor . It was so funny . The actors were great . i could n't remember\n",
      "I liked this movie because i thought it was kind of funny and very funny every time . The Dean Cain character\n",
      "I liked this movie because it has a good premise , and a good story about girls . However , this movie is not\n"
     ]
    }
   ],
   "source": [
    "print('\\n'.join(learn.predict(TEXT, N_WORDS, temperature=0.75) for _ in range(N_SENTENCES)))"
   ]
  },
  {
   "cell_type": "code",
   "execution_count": 25,
   "metadata": {},
   "outputs": [],
   "source": [
    "learn_wofinetune = language_model_learner(data_lm, AWD_LSTM, drop_mult=0.3)"
   ]
  },
  {
   "cell_type": "code",
   "execution_count": 29,
   "metadata": {},
   "outputs": [
    {
     "name": "stdout",
     "output_type": "stream",
     "text": [
      "I liked this movie because it was about \" wanting to make a movie ( and not a short film ) \" . He\n",
      "I liked this movie because that it could be a script . The film was not intended to be a commercial success , and\n",
      "I liked this movie because it was about the European Union of South West Africa , France .\n",
      "I liked this movie because it was a play that made it a fun film . The film was inspiration in The\n",
      "I liked this movie because of its themes and themes , and despite this , are not as overtly associated with the film .\n"
     ]
    }
   ],
   "source": [
    "print('\\n'.join(learn_wofinetune.predict(TEXT, N_WORDS, temperature=0.75) for _ in range(N_SENTENCES)))"
   ]
  },
  {
   "cell_type": "code",
   "execution_count": 30,
   "metadata": {},
   "outputs": [],
   "source": [
    "learn.save_encoder('fine_tuned_enc')"
   ]
  },
  {
   "cell_type": "markdown",
   "metadata": {},
   "source": [
    "#### 5a. Train Classifier (WITH fine-tuning)"
   ]
  },
  {
   "cell_type": "code",
   "execution_count": 38,
   "metadata": {},
   "outputs": [],
   "source": [
    "path = untar_data(URLs.IMDB)"
   ]
  },
  {
   "cell_type": "code",
   "execution_count": 39,
   "metadata": {},
   "outputs": [
    {
     "data": {
      "text/html": [],
      "text/plain": [
       "<IPython.core.display.HTML object>"
      ]
     },
     "metadata": {},
     "output_type": "display_data"
    },
    {
     "data": {
      "text/html": [],
      "text/plain": [
       "<IPython.core.display.HTML object>"
      ]
     },
     "metadata": {},
     "output_type": "display_data"
    }
   ],
   "source": [
    "data_clas = (TextList.from_folder(path, vocab=data_lm.vocab)\n",
    "             #grab all the text files in path\n",
    "             .split_by_folder(valid='test')\n",
    "             #split by train and valid folder (that only keeps 'train' and 'test' so no need to filter)\n",
    "             .label_from_folder(classes=['neg', 'pos'])\n",
    "             #label them all with their folders\n",
    "             .databunch(bs=bs))\n",
    "\n",
    "data_clas.save('data_clas.pkl')"
   ]
  },
  {
   "cell_type": "code",
   "execution_count": 41,
   "metadata": {},
   "outputs": [
    {
     "data": {
      "text/html": [
       "<table border=\"1\" class=\"dataframe\">\n",
       "  <thead>\n",
       "    <tr style=\"text-align: right;\">\n",
       "      <th>text</th>\n",
       "      <th>target</th>\n",
       "    </tr>\n",
       "  </thead>\n",
       "  <tbody>\n",
       "    <tr>\n",
       "      <td>xxbos xxmaj match 1 : xxmaj tag xxmaj team xxmaj table xxmaj match xxmaj bubba xxmaj ray and xxmaj spike xxmaj dudley vs xxmaj eddie xxmaj guerrero and xxmaj chris xxmaj benoit xxmaj bubba xxmaj ray and xxmaj spike xxmaj dudley started things off with a xxmaj tag xxmaj team xxmaj table xxmaj match against xxmaj eddie xxmaj guerrero and xxmaj chris xxmaj benoit . xxmaj according to the rules</td>\n",
       "      <td>pos</td>\n",
       "    </tr>\n",
       "    <tr>\n",
       "      <td>xxbos xxmaj some have praised _ xxunk _ as a xxmaj disney adventure for adults . i do n't think so -- at least not for thinking adults . \\n \\n  xxmaj this script suggests a beginning as a live - action movie , that struck someone as the type of crap you can not sell to adults anymore . xxmaj the \" crack staff \" of many older</td>\n",
       "      <td>neg</td>\n",
       "    </tr>\n",
       "    <tr>\n",
       "      <td>xxbos * * * xxmaj warning - this review contains \" plot spoilers , \" though nothing could \" spoil \" this movie any more than it already is . xxmaj it really xxup is that bad . * * * \\n \\n  xxmaj before i begin , i 'd like to let everyone know that this definitely is one of those so - incredibly - bad - that</td>\n",
       "      <td>neg</td>\n",
       "    </tr>\n",
       "    <tr>\n",
       "      <td>xxbos xxmaj raising xxmaj victor xxmaj vargas : a xxmaj review \\n \\n  xxmaj you know , xxmaj raising xxmaj victor xxmaj vargas is like sticking your hands into a big , steaming bowl of oatmeal . xxmaj it 's warm and gooey , but you 're not sure if it feels right . xxmaj try as i might , no matter how warm and gooey xxmaj raising xxmaj</td>\n",
       "      <td>neg</td>\n",
       "    </tr>\n",
       "    <tr>\n",
       "      <td>xxbos i thought that xxup rotj was clearly the best out of the three xxmaj star xxmaj wars movies . i find it surprising that xxup rotj is considered the weakest installment in the xxmaj trilogy by many who have voted . xxmaj to me it seemed like xxup rotj was the best because it had the most profound plot , the most suspense , surprises , most xxunk the</td>\n",
       "      <td>pos</td>\n",
       "    </tr>\n",
       "  </tbody>\n",
       "</table>"
      ],
      "text/plain": [
       "<IPython.core.display.HTML object>"
      ]
     },
     "metadata": {},
     "output_type": "display_data"
    }
   ],
   "source": [
    "data_clas.show_batch()"
   ]
  },
  {
   "cell_type": "code",
   "execution_count": 52,
   "metadata": {
    "collapsed": true
   },
   "outputs": [
    {
     "data": {
      "text/plain": [
       "RNNLearner(data=TextClasDataBunch;\n",
       "\n",
       "Train: LabelList (25000 items)\n",
       "x: TextList\n",
       "xxbos xxmaj obviously made to show famous 1950s stripper xxmaj misty xxmaj ayers \" acting \" talents . xxmaj too bad she ca n't act . \n",
       " \n",
       "  xxmaj boring little tale about sweet , innocent xxmaj sally xxmaj down ( xxmaj ayers ) being drugged and forced into white slavery ( prostitution ) . xxmaj then she meets likable xxmaj tommy xxmaj cole who instantly falls in love with her . xxmaj he wants to help her escape but can he ? xxmaj you really wo n't care . \n",
       " \n",
       "  xxmaj there 's no real skin here -- xxmaj ayers just strips down xxup slowly to her underwear ( twice ) . xxmaj the rest is just a boring little tale chockful of bad acting , atrocious \" comedy \" ( never thought prostitution was funny but what do i know ? ) and terrible post - dubbed dialogue . i admit there was a twist at the end i did n't see coming but that 's not enough to sit through this . xxmaj also xxmaj ayers ' attempts at acting are hysterical ! a real bomb . xxmaj avoid .,xxbos xxmaj dennis xxmaj hopper is without a doubt one of the finest underrated xxmaj american actors of our time , and it was interesting to see how he would play out his role as a cop on the case of a child serial killer . xxmaj most movies xxmaj hopper has always played to psychotic menace threatening to blow up stuff or go on a killing spree , but in this movie , xxmaj hopper tried his best to keep that intensity and emotion while carrying a shield . xxmaj once i got into the plot of the movie , i was hooked , but it 's just the little things that ultimately murdered the film . \n",
       " \n",
       "  xxmaj the concept of the film is great - not only are the cops on the move of catching the killer , but we get a chance to see how the gangsters operate in catching the killer . xxmaj the subplot of the football stadium is kinda ridiculous , but necessary to involve the gangsters in the killer hunt . \n",
       " \n",
       "  xxmaj that 's about all that is good you can say about the film . xxmaj although xxmaj hopper did try to act like a tough , experienced street smart cop , i ca n't help but feel his acting was below par , and there was n't enough conviction that he was truly attached to the case . xxmaj the directing was also terrible - it did n't have the feel of a true film , but rather a xxup tv - movie production . xxmaj this is most evident when the gangsters meet for the first time to form an elite team to hunt the killer down . xxmaj when the leading gangster shoots the other mouthy gangster in slow motion , the acting was weak , predictable and terribly unexciting . xxmaj that 's when i knew that 1st of all , the action is going to be atrocious . \n",
       " \n",
       "  xxmaj the xxunk of the camera was amateurish , and the recalling scenes or haunting images of the killer 's little sister had no true distinctive effect . xxmaj if it was supposed to be scary , it was n't . xxmaj everyone 's acting was terrible , and even for xxmaj hopper , i did n't feel for his character , and i just did n't really care too much about his relationship with his daughter . \n",
       " \n",
       "  xxmaj the final thing that bothered me the most is the swat team . xxmaj once i saw the swat team in action , i was thinking , finally , something good . xxmaj but i was wrong . 1st of all , the entire swat team consisted of 4 guys . xxmaj that is just impossible . 2nd of all , apparently the swat team has no training whatsoever because many times in the film they carry their xxup xxunk submachine guns with one hand . xxmaj had the killer been hiding near the staircase with a shotgun , these 4 idiots would 've been blown to bits because they were n't even aiming at anything or paying close attention . xxmaj they should have had both hands on the gun aiming forward , but it just looks like they 're not taking the job seriously and are just flaunting around . 3rd , xxup swat team members do not yell out commands such as \" xxmaj keep your eyes open , watch out for yourselves , are we good to go ... etc . \" xxmaj in reality , they use hand signals or have radios . xxmaj but they 're literally yelling at each other - how are you supposed to catch the killer when he can hear you 're coming ? ? ? xxmaj and to top it all off , these guys have no plan - apparently they 're just running up and down going on a wild turkey chase . xxmaj eventually they end up doing nothing . xxmaj that was the last straw . i 'm no expert on special forces , but basically what i 've just outlined , is pretty common sense . xxmaj when the audience knows the movie is terrible , the action pretty much becomes the life - saver of the movie - when you ca n't even make an effort to make the action great , the movie is lost . \n",
       " \n",
       "  i give 2 stars for the concept , but the rest can not be credited . xxmaj if you want to watch a crime thriller , do n't bother with this one . xxmaj there 's plenty of crime in the movie - but it has the lack of thrill .,xxbos xxmaj painful to watch , and not entirely for empathy with the struggles of the characters . xxmaj two of the main characters , xxmaj cynthia the mother and xxmaj monica the acknowledged daughter , spend the great bulk of the film pathetically mewling and bitterly bitching respectively . xxmaj their characters are so firmly established that their redemption into tolerable personalities after a quick family catharsis is unbelievable . xxmaj it was n't worth the wait . i wish a worthy pitch for honesty among families was less of a headache to view .,xxbos i already know that critics and some audiences say that it was a satire , there were numerous political and social messages , the names make refer to some other names etc . xxmaj it might be . i can not realize such things ( i do n't want to do anyway ) because i am not interested in , i am interested in ' cinema ' . xxmaj as for the movie itself , again it is said that the movie is clever and dramatically powerful . i could not see anything which we do n't see in monster movies except the scene which takes place in a office in the second half . xxmaj yes , that scene says somethings about humanity , but it does not make the movie brilliant . xxmaj the movie is entertaining ( mildly ) and exciting in some moments or scenes , but no more than that . xxmaj as for the biggest flaw of the movie , it is visual effects . xxmaj it was just shocking , i could not pull myself together for a while , because i had expected a realistic monster , because it is not one of the old xxmaj gojira movies , it was made in 2006 , but it was not . xxmaj it is like if you do n't believe that there is a monster , you can not care about . xxmaj if you agree with me about this , i highly recommend you xxmaj cloverfield that is extremely realistic . xxmaj the design of the monster is not interesting , but at least planned , there is an effort . xxmaj dramatically powerful critique . xxmaj some critics talk about it as if it is a xxmaj kurosawa movie . xxmaj yes , it is rather a drama than a thriller or action , but it should not mean that it is dramatically powerful . i do n't want to compare xxmaj the xxmaj host with other monster movies , but i try to mean that xxmaj the xxmaj host does not do something that other monster movies do not do . xxmaj by the way , may be some people call the movie masterpiece because of their sympathy for xxmaj asian cinema . xxmaj yes , i like xxmaj asian cinema too , but this is the fact .,xxbos xxmaj one of the worst romantic comedies ( nay , worst movies ) i 've ever seen . xxmaj boy ( who works as a phone psychic ! ) must pretend to be gay to move into apartment with woman of his dreams . xxmaj hilarity does not ensue . xxmaj boredom , light gay - bashing , and horrible dialogue do . xxmaj if you read xxmaj brad xxmaj xxunk and like his crappy dialogue , you 'll like this movie . \n",
       " \n",
       "  xxmaj be smart . xxmaj avoid this . if you see it , destroy the copy .\n",
       "y: CategoryList\n",
       "neg,neg,neg,neg,neg\n",
       "Path: /userhome/34/h3509807/.fastai/data/imdb;\n",
       "\n",
       "Valid: LabelList (25000 items)\n",
       "x: TextList\n",
       "xxbos i thought this movie was brilliant . xxmaj it was so funny and so true too . a great idea for a movie . xxmaj five groups of friends on their way to schoolies . i 've got to say that xxmaj matt xxmaj newton as xxmaj mason was probably my favourite character . i wish i could give this movie more than a 10 rating .,xxbos xxmaj it 'll soon be 10 yrs since this movie was released xxrep 4 . still makes me laugh xxrep 4 . xxmaj if u enjoy this film , try the new xxmaj hera xxmaj pheri xxrep 4 . xxunk as hilarious . xxmaj and my favourite bit of the film must be when xxmaj salman realises that he has no bullets left in his gun while he has the upper hand and has everyone at gun point ... and he actually says it out loud ! ! ! u just wanna bash him xxrep 4 . but u know u can only do that if u stop laughing xxrep 4 ! xxmaj fantastic film xxrep 4 . 10 / 10,xxbos xxmaj we do n't know why this extraordinary film was never made available officially on xxup dvd ... xxmaj anthony xxmaj quinn 's performance alone makes this a must - see . xxmaj there are relatively few films in which an actor identifies so profoundly with his character , a phenomenon always unique for us , moviegoers . \n",
       " \n",
       "  xxmaj but xxmaj quinn 's powerful portrayal of an innocent xxmaj romanian , literally dragged out of his house and everyday life by forces he can not comprehend , is only part of what makes this film great . xxmaj the script is based on a book published in xxmaj paris by a xxmaj romanian priest who fled the xxmaj communist take - over of his country , and the film succeeds to go deep into a little known area of xxmaj east - xxmaj european history . xxmaj told as a succession of xxmaj kafka - esquire twists of fate , the misadventures of xxmaj johann xxmaj moritz ( told openly and honestly , without any of the political correctness currently so precious in xxmaj hollywood ) are in fact a eulogy for the lost innocence of the xxmaj romanian people ... it is devilishly ironic that this eulogy is signed by a xxmaj french director , working with the xxmaj american money of an xxmaj italian producer , and overseeing a multinational cast fronted by an extraordinary xxmaj mexican - born thespian . \n",
       " \n",
       "  i 've seen mentions of vcds of this film in various xxmaj asian internet stores , and i was fortunate to take possession of a digital recording of this film , broadcast on the xxmaj british version of xxup tcm . xxmaj but it 's a shame that \" xxmaj the 25th xxmaj hour \" is n't anywhere on the future xxup dvd release map of xxup mgm studios .,xxbos xxmaj this truly is an xxmaj australia cult classic . xxmaj if you 're one of the lucky ones to have seen it-- then you are very lucky . xxmaj it has been released in most countries , but not in xxmaj australia for some reason . i have a copy on xxup dvd from the xxup uk . xxmaj not a great transfer , but i bought it , having seen it previously at a film festival . xxmaj the directing is spot on and the performances rock ! xxmaj this is dark film scary film , but often times , very funny in parts . i urge you to see this film , there is a coolness about this you do n't see in 99 % of the typical xxmaj aussie fare . xxmaj the screenplay is very well crafted and sends you on a journey where you know it will end badly , but until the last ten minutes , you just ca n't pick how badly . xxmaj great work from the four leads , especially xxmaj lachy xxmaj hulme . \n",
       " \n",
       "  xxmaj when its all said and done : xxmaj great work on display !,xxbos xxmaj ida xxmaj lupino is trapped in her own home by crazy xxmaj robert xxmaj ryan in \" xxmaj beware , xxmaj my xxmaj lovely , \" a 1952 film from xxup rko . xxmaj lupino and xxmaj ryan did three films together and worked well as a team , both being consummate professionals and strong performers . xxmaj in this film , based on a xxmaj broadway play called \" xxmaj the xxmaj man , \" xxmaj lupino is a xxmaj world xxmaj war i widow who rents out a room in her home . xxmaj she 's very active and well - liked in her community and though her husband has been dead for two years , she 's not ready to move on . xxmaj the man who rents her room goes on vacation , and xxmaj lupino hires xxmaj robert xxmaj ryan to help her with some heavy - duty cleaning in the house . xxmaj he 's friendly enough to start , but later terrorizes her , locking her in the house , and not allowing her to answer the phone or the door , as he grows violent and more out of touch with reality . \n",
       " \n",
       "  xxmaj the character played by xxmaj ryan is shown in the beginning of the movie running away when he discovers a dead body in another house he 's working in . xxmaj it is n't clear whether or not he 's the killer , since he seems surprised to see the body . xxmaj he might be a split personality , as when his personality turns ugly toward xxmaj lupino , he seems to have no memory of his activities when he comes out of it . xxmaj he does n't know that he has the keys to xxmaj lupino 's house in his pocket and does n't know why he has tickets to a party that he bought from young children who came to the door . \n",
       " \n",
       "  \" xxmaj beware , xxmaj my xxmaj lovely , \" is a very suspenseful film , and the two leads give terrific performances . xxmaj the tension builds to a very high level and ends in a way you 're not expecting .\n",
       "y: CategoryList\n",
       "pos,pos,pos,pos,pos\n",
       "Path: /userhome/34/h3509807/.fastai/data/imdb;\n",
       "\n",
       "Test: None, model=SequentialRNN(\n",
       "  (0): MultiBatchEncoder(\n",
       "    (module): AWD_LSTM(\n",
       "      (encoder): Embedding(60000, 400, padding_idx=1)\n",
       "      (encoder_dp): EmbeddingDropout(\n",
       "        (emb): Embedding(60000, 400, padding_idx=1)\n",
       "      )\n",
       "      (rnns): ModuleList(\n",
       "        (0): WeightDropout(\n",
       "          (module): LSTM(400, 1152, batch_first=True)\n",
       "        )\n",
       "        (1): WeightDropout(\n",
       "          (module): LSTM(1152, 1152, batch_first=True)\n",
       "        )\n",
       "        (2): WeightDropout(\n",
       "          (module): LSTM(1152, 400, batch_first=True)\n",
       "        )\n",
       "      )\n",
       "      (input_dp): RNNDropout()\n",
       "      (hidden_dps): ModuleList(\n",
       "        (0): RNNDropout()\n",
       "        (1): RNNDropout()\n",
       "        (2): RNNDropout()\n",
       "      )\n",
       "    )\n",
       "  )\n",
       "  (1): PoolingLinearClassifier(\n",
       "    (layers): Sequential(\n",
       "      (0): BatchNorm1d(1200, eps=1e-05, momentum=0.1, affine=True, track_running_stats=True)\n",
       "      (1): Dropout(p=0.2, inplace=False)\n",
       "      (2): Linear(in_features=1200, out_features=50, bias=True)\n",
       "      (3): ReLU(inplace=True)\n",
       "      (4): BatchNorm1d(50, eps=1e-05, momentum=0.1, affine=True, track_running_stats=True)\n",
       "      (5): Dropout(p=0.1, inplace=False)\n",
       "      (6): Linear(in_features=50, out_features=2, bias=True)\n",
       "    )\n",
       "  )\n",
       "), opt_func=functools.partial(<class 'torch.optim.adam.Adam'>, betas=(0.9, 0.99)), loss_func=FlattenedLoss of CrossEntropyLoss(), metrics=[<function accuracy at 0x7f89d3c7f158>], true_wd=True, bn_wd=True, wd=0.01, train_bn=True, path=PosixPath('/userhome/34/h3509807/.fastai/data/imdb'), model_dir='models', callback_fns=[functools.partial(<class 'fastai.basic_train.Recorder'>, add_time=True, silent=False)], callbacks=[RNNTrainer\n",
       "learn: RNNLearner(data=TextClasDataBunch;\n",
       "\n",
       "Train: LabelList (25000 items)\n",
       "x: TextList\n",
       "xxbos xxmaj obviously made to show famous 1950s stripper xxmaj misty xxmaj ayers \" acting \" talents . xxmaj too bad she ca n't act . \n",
       " \n",
       "  xxmaj boring little tale about sweet , innocent xxmaj sally xxmaj down ( xxmaj ayers ) being drugged and forced into white slavery ( prostitution ) . xxmaj then she meets likable xxmaj tommy xxmaj cole who instantly falls in love with her . xxmaj he wants to help her escape but can he ? xxmaj you really wo n't care . \n",
       " \n",
       "  xxmaj there 's no real skin here -- xxmaj ayers just strips down xxup slowly to her underwear ( twice ) . xxmaj the rest is just a boring little tale chockful of bad acting , atrocious \" comedy \" ( never thought prostitution was funny but what do i know ? ) and terrible post - dubbed dialogue . i admit there was a twist at the end i did n't see coming but that 's not enough to sit through this . xxmaj also xxmaj ayers ' attempts at acting are hysterical ! a real bomb . xxmaj avoid .,xxbos xxmaj dennis xxmaj hopper is without a doubt one of the finest underrated xxmaj american actors of our time , and it was interesting to see how he would play out his role as a cop on the case of a child serial killer . xxmaj most movies xxmaj hopper has always played to psychotic menace threatening to blow up stuff or go on a killing spree , but in this movie , xxmaj hopper tried his best to keep that intensity and emotion while carrying a shield . xxmaj once i got into the plot of the movie , i was hooked , but it 's just the little things that ultimately murdered the film . \n",
       " \n",
       "  xxmaj the concept of the film is great - not only are the cops on the move of catching the killer , but we get a chance to see how the gangsters operate in catching the killer . xxmaj the subplot of the football stadium is kinda ridiculous , but necessary to involve the gangsters in the killer hunt . \n",
       " \n",
       "  xxmaj that 's about all that is good you can say about the film . xxmaj although xxmaj hopper did try to act like a tough , experienced street smart cop , i ca n't help but feel his acting was below par , and there was n't enough conviction that he was truly attached to the case . xxmaj the directing was also terrible - it did n't have the feel of a true film , but rather a xxup tv - movie production . xxmaj this is most evident when the gangsters meet for the first time to form an elite team to hunt the killer down . xxmaj when the leading gangster shoots the other mouthy gangster in slow motion , the acting was weak , predictable and terribly unexciting . xxmaj that 's when i knew that 1st of all , the action is going to be atrocious . \n",
       " \n",
       "  xxmaj the xxunk of the camera was amateurish , and the recalling scenes or haunting images of the killer 's little sister had no true distinctive effect . xxmaj if it was supposed to be scary , it was n't . xxmaj everyone 's acting was terrible , and even for xxmaj hopper , i did n't feel for his character , and i just did n't really care too much about his relationship with his daughter . \n",
       " \n",
       "  xxmaj the final thing that bothered me the most is the swat team . xxmaj once i saw the swat team in action , i was thinking , finally , something good . xxmaj but i was wrong . 1st of all , the entire swat team consisted of 4 guys . xxmaj that is just impossible . 2nd of all , apparently the swat team has no training whatsoever because many times in the film they carry their xxup xxunk submachine guns with one hand . xxmaj had the killer been hiding near the staircase with a shotgun , these 4 idiots would 've been blown to bits because they were n't even aiming at anything or paying close attention . xxmaj they should have had both hands on the gun aiming forward , but it just looks like they 're not taking the job seriously and are just flaunting around . 3rd , xxup swat team members do not yell out commands such as \" xxmaj keep your eyes open , watch out for yourselves , are we good to go ... etc . \" xxmaj in reality , they use hand signals or have radios . xxmaj but they 're literally yelling at each other - how are you supposed to catch the killer when he can hear you 're coming ? ? ? xxmaj and to top it all off , these guys have no plan - apparently they 're just running up and down going on a wild turkey chase . xxmaj eventually they end up doing nothing . xxmaj that was the last straw . i 'm no expert on special forces , but basically what i 've just outlined , is pretty common sense . xxmaj when the audience knows the movie is terrible , the action pretty much becomes the life - saver of the movie - when you ca n't even make an effort to make the action great , the movie is lost . \n",
       " \n",
       "  i give 2 stars for the concept , but the rest can not be credited . xxmaj if you want to watch a crime thriller , do n't bother with this one . xxmaj there 's plenty of crime in the movie - but it has the lack of thrill .,xxbos xxmaj painful to watch , and not entirely for empathy with the struggles of the characters . xxmaj two of the main characters , xxmaj cynthia the mother and xxmaj monica the acknowledged daughter , spend the great bulk of the film pathetically mewling and bitterly bitching respectively . xxmaj their characters are so firmly established that their redemption into tolerable personalities after a quick family catharsis is unbelievable . xxmaj it was n't worth the wait . i wish a worthy pitch for honesty among families was less of a headache to view .,xxbos i already know that critics and some audiences say that it was a satire , there were numerous political and social messages , the names make refer to some other names etc . xxmaj it might be . i can not realize such things ( i do n't want to do anyway ) because i am not interested in , i am interested in ' cinema ' . xxmaj as for the movie itself , again it is said that the movie is clever and dramatically powerful . i could not see anything which we do n't see in monster movies except the scene which takes place in a office in the second half . xxmaj yes , that scene says somethings about humanity , but it does not make the movie brilliant . xxmaj the movie is entertaining ( mildly ) and exciting in some moments or scenes , but no more than that . xxmaj as for the biggest flaw of the movie , it is visual effects . xxmaj it was just shocking , i could not pull myself together for a while , because i had expected a realistic monster , because it is not one of the old xxmaj gojira movies , it was made in 2006 , but it was not . xxmaj it is like if you do n't believe that there is a monster , you can not care about . xxmaj if you agree with me about this , i highly recommend you xxmaj cloverfield that is extremely realistic . xxmaj the design of the monster is not interesting , but at least planned , there is an effort . xxmaj dramatically powerful critique . xxmaj some critics talk about it as if it is a xxmaj kurosawa movie . xxmaj yes , it is rather a drama than a thriller or action , but it should not mean that it is dramatically powerful . i do n't want to compare xxmaj the xxmaj host with other monster movies , but i try to mean that xxmaj the xxmaj host does not do something that other monster movies do not do . xxmaj by the way , may be some people call the movie masterpiece because of their sympathy for xxmaj asian cinema . xxmaj yes , i like xxmaj asian cinema too , but this is the fact .,xxbos xxmaj one of the worst romantic comedies ( nay , worst movies ) i 've ever seen . xxmaj boy ( who works as a phone psychic ! ) must pretend to be gay to move into apartment with woman of his dreams . xxmaj hilarity does not ensue . xxmaj boredom , light gay - bashing , and horrible dialogue do . xxmaj if you read xxmaj brad xxmaj xxunk and like his crappy dialogue , you 'll like this movie . \n",
       " \n",
       "  xxmaj be smart . xxmaj avoid this . if you see it , destroy the copy .\n",
       "y: CategoryList\n",
       "neg,neg,neg,neg,neg\n",
       "Path: /userhome/34/h3509807/.fastai/data/imdb;\n",
       "\n",
       "Valid: LabelList (25000 items)\n",
       "x: TextList\n",
       "xxbos i thought this movie was brilliant . xxmaj it was so funny and so true too . a great idea for a movie . xxmaj five groups of friends on their way to schoolies . i 've got to say that xxmaj matt xxmaj newton as xxmaj mason was probably my favourite character . i wish i could give this movie more than a 10 rating .,xxbos xxmaj it 'll soon be 10 yrs since this movie was released xxrep 4 . still makes me laugh xxrep 4 . xxmaj if u enjoy this film , try the new xxmaj hera xxmaj pheri xxrep 4 . xxunk as hilarious . xxmaj and my favourite bit of the film must be when xxmaj salman realises that he has no bullets left in his gun while he has the upper hand and has everyone at gun point ... and he actually says it out loud ! ! ! u just wanna bash him xxrep 4 . but u know u can only do that if u stop laughing xxrep 4 ! xxmaj fantastic film xxrep 4 . 10 / 10,xxbos xxmaj we do n't know why this extraordinary film was never made available officially on xxup dvd ... xxmaj anthony xxmaj quinn 's performance alone makes this a must - see . xxmaj there are relatively few films in which an actor identifies so profoundly with his character , a phenomenon always unique for us , moviegoers . \n",
       " \n",
       "  xxmaj but xxmaj quinn 's powerful portrayal of an innocent xxmaj romanian , literally dragged out of his house and everyday life by forces he can not comprehend , is only part of what makes this film great . xxmaj the script is based on a book published in xxmaj paris by a xxmaj romanian priest who fled the xxmaj communist take - over of his country , and the film succeeds to go deep into a little known area of xxmaj east - xxmaj european history . xxmaj told as a succession of xxmaj kafka - esquire twists of fate , the misadventures of xxmaj johann xxmaj moritz ( told openly and honestly , without any of the political correctness currently so precious in xxmaj hollywood ) are in fact a eulogy for the lost innocence of the xxmaj romanian people ... it is devilishly ironic that this eulogy is signed by a xxmaj french director , working with the xxmaj american money of an xxmaj italian producer , and overseeing a multinational cast fronted by an extraordinary xxmaj mexican - born thespian . \n",
       " \n",
       "  i 've seen mentions of vcds of this film in various xxmaj asian internet stores , and i was fortunate to take possession of a digital recording of this film , broadcast on the xxmaj british version of xxup tcm . xxmaj but it 's a shame that \" xxmaj the 25th xxmaj hour \" is n't anywhere on the future xxup dvd release map of xxup mgm studios .,xxbos xxmaj this truly is an xxmaj australia cult classic . xxmaj if you 're one of the lucky ones to have seen it-- then you are very lucky . xxmaj it has been released in most countries , but not in xxmaj australia for some reason . i have a copy on xxup dvd from the xxup uk . xxmaj not a great transfer , but i bought it , having seen it previously at a film festival . xxmaj the directing is spot on and the performances rock ! xxmaj this is dark film scary film , but often times , very funny in parts . i urge you to see this film , there is a coolness about this you do n't see in 99 % of the typical xxmaj aussie fare . xxmaj the screenplay is very well crafted and sends you on a journey where you know it will end badly , but until the last ten minutes , you just ca n't pick how badly . xxmaj great work from the four leads , especially xxmaj lachy xxmaj hulme . \n",
       " \n",
       "  xxmaj when its all said and done : xxmaj great work on display !,xxbos xxmaj ida xxmaj lupino is trapped in her own home by crazy xxmaj robert xxmaj ryan in \" xxmaj beware , xxmaj my xxmaj lovely , \" a 1952 film from xxup rko . xxmaj lupino and xxmaj ryan did three films together and worked well as a team , both being consummate professionals and strong performers . xxmaj in this film , based on a xxmaj broadway play called \" xxmaj the xxmaj man , \" xxmaj lupino is a xxmaj world xxmaj war i widow who rents out a room in her home . xxmaj she 's very active and well - liked in her community and though her husband has been dead for two years , she 's not ready to move on . xxmaj the man who rents her room goes on vacation , and xxmaj lupino hires xxmaj robert xxmaj ryan to help her with some heavy - duty cleaning in the house . xxmaj he 's friendly enough to start , but later terrorizes her , locking her in the house , and not allowing her to answer the phone or the door , as he grows violent and more out of touch with reality . \n",
       " \n",
       "  xxmaj the character played by xxmaj ryan is shown in the beginning of the movie running away when he discovers a dead body in another house he 's working in . xxmaj it is n't clear whether or not he 's the killer , since he seems surprised to see the body . xxmaj he might be a split personality , as when his personality turns ugly toward xxmaj lupino , he seems to have no memory of his activities when he comes out of it . xxmaj he does n't know that he has the keys to xxmaj lupino 's house in his pocket and does n't know why he has tickets to a party that he bought from young children who came to the door . \n",
       " \n",
       "  \" xxmaj beware , xxmaj my xxmaj lovely , \" is a very suspenseful film , and the two leads give terrific performances . xxmaj the tension builds to a very high level and ends in a way you 're not expecting .\n",
       "y: CategoryList\n",
       "pos,pos,pos,pos,pos\n",
       "Path: /userhome/34/h3509807/.fastai/data/imdb;\n",
       "\n",
       "Test: None, model=SequentialRNN(\n",
       "  (0): MultiBatchEncoder(\n",
       "    (module): AWD_LSTM(\n",
       "      (encoder): Embedding(60000, 400, padding_idx=1)\n",
       "      (encoder_dp): EmbeddingDropout(\n",
       "        (emb): Embedding(60000, 400, padding_idx=1)\n",
       "      )\n",
       "      (rnns): ModuleList(\n",
       "        (0): WeightDropout(\n",
       "          (module): LSTM(400, 1152, batch_first=True)\n",
       "        )\n",
       "        (1): WeightDropout(\n",
       "          (module): LSTM(1152, 1152, batch_first=True)\n",
       "        )\n",
       "        (2): WeightDropout(\n",
       "          (module): LSTM(1152, 400, batch_first=True)\n",
       "        )\n",
       "      )\n",
       "      (input_dp): RNNDropout()\n",
       "      (hidden_dps): ModuleList(\n",
       "        (0): RNNDropout()\n",
       "        (1): RNNDropout()\n",
       "        (2): RNNDropout()\n",
       "      )\n",
       "    )\n",
       "  )\n",
       "  (1): PoolingLinearClassifier(\n",
       "    (layers): Sequential(\n",
       "      (0): BatchNorm1d(1200, eps=1e-05, momentum=0.1, affine=True, track_running_stats=True)\n",
       "      (1): Dropout(p=0.2, inplace=False)\n",
       "      (2): Linear(in_features=1200, out_features=50, bias=True)\n",
       "      (3): ReLU(inplace=True)\n",
       "      (4): BatchNorm1d(50, eps=1e-05, momentum=0.1, affine=True, track_running_stats=True)\n",
       "      (5): Dropout(p=0.1, inplace=False)\n",
       "      (6): Linear(in_features=50, out_features=2, bias=True)\n",
       "    )\n",
       "  )\n",
       "), opt_func=functools.partial(<class 'torch.optim.adam.Adam'>, betas=(0.9, 0.99)), loss_func=FlattenedLoss of CrossEntropyLoss(), metrics=[<function accuracy at 0x7f89d3c7f158>], true_wd=True, bn_wd=True, wd=0.01, train_bn=True, path=PosixPath('/userhome/34/h3509807/.fastai/data/imdb'), model_dir='models', callback_fns=[functools.partial(<class 'fastai.basic_train.Recorder'>, add_time=True, silent=False)], callbacks=[...], layer_groups=[Sequential(\n",
       "  (0): Embedding(60000, 400, padding_idx=1)\n",
       "  (1): EmbeddingDropout(\n",
       "    (emb): Embedding(60000, 400, padding_idx=1)\n",
       "  )\n",
       "), Sequential(\n",
       "  (0): WeightDropout(\n",
       "    (module): LSTM(400, 1152, batch_first=True)\n",
       "  )\n",
       "  (1): RNNDropout()\n",
       "), Sequential(\n",
       "  (0): WeightDropout(\n",
       "    (module): LSTM(1152, 1152, batch_first=True)\n",
       "  )\n",
       "  (1): RNNDropout()\n",
       "), Sequential(\n",
       "  (0): WeightDropout(\n",
       "    (module): LSTM(1152, 400, batch_first=True)\n",
       "  )\n",
       "  (1): RNNDropout()\n",
       "), Sequential(\n",
       "  (0): PoolingLinearClassifier(\n",
       "    (layers): Sequential(\n",
       "      (0): BatchNorm1d(1200, eps=1e-05, momentum=0.1, affine=True, track_running_stats=True)\n",
       "      (1): Dropout(p=0.2, inplace=False)\n",
       "      (2): Linear(in_features=1200, out_features=50, bias=True)\n",
       "      (3): ReLU(inplace=True)\n",
       "      (4): BatchNorm1d(50, eps=1e-05, momentum=0.1, affine=True, track_running_stats=True)\n",
       "      (5): Dropout(p=0.1, inplace=False)\n",
       "      (6): Linear(in_features=50, out_features=2, bias=True)\n",
       "    )\n",
       "  )\n",
       ")], add_time=True, silent=False)\n",
       "alpha: 2.0\n",
       "beta: 1.0], layer_groups=[Sequential(\n",
       "  (0): Embedding(60000, 400, padding_idx=1)\n",
       "  (1): EmbeddingDropout(\n",
       "    (emb): Embedding(60000, 400, padding_idx=1)\n",
       "  )\n",
       "), Sequential(\n",
       "  (0): WeightDropout(\n",
       "    (module): LSTM(400, 1152, batch_first=True)\n",
       "  )\n",
       "  (1): RNNDropout()\n",
       "), Sequential(\n",
       "  (0): WeightDropout(\n",
       "    (module): LSTM(1152, 1152, batch_first=True)\n",
       "  )\n",
       "  (1): RNNDropout()\n",
       "), Sequential(\n",
       "  (0): WeightDropout(\n",
       "    (module): LSTM(1152, 400, batch_first=True)\n",
       "  )\n",
       "  (1): RNNDropout()\n",
       "), Sequential(\n",
       "  (0): PoolingLinearClassifier(\n",
       "    (layers): Sequential(\n",
       "      (0): BatchNorm1d(1200, eps=1e-05, momentum=0.1, affine=True, track_running_stats=True)\n",
       "      (1): Dropout(p=0.2, inplace=False)\n",
       "      (2): Linear(in_features=1200, out_features=50, bias=True)\n",
       "      (3): ReLU(inplace=True)\n",
       "      (4): BatchNorm1d(50, eps=1e-05, momentum=0.1, affine=True, track_running_stats=True)\n",
       "      (5): Dropout(p=0.1, inplace=False)\n",
       "      (6): Linear(in_features=50, out_features=2, bias=True)\n",
       "    )\n",
       "  )\n",
       ")], add_time=True, silent=False)"
      ]
     },
     "execution_count": 52,
     "metadata": {},
     "output_type": "execute_result"
    }
   ],
   "source": [
    "learn = text_classifier_learner(data_clas, AWD_LSTM, drop_mult=0.5)\n",
    "learn.load_encoder('fine_tuned_enc')"
   ]
  },
  {
   "cell_type": "code",
   "execution_count": 45,
   "metadata": {},
   "outputs": [
    {
     "data": {
      "text/html": [
       "\n",
       "    <div>\n",
       "        <style>\n",
       "            /* Turns off some styling */\n",
       "            progress {\n",
       "                /* gets rid of default border in Firefox and Opera. */\n",
       "                border: none;\n",
       "                /* Needs to be in here for Safari polyfill so background images work as expected. */\n",
       "                background-size: auto;\n",
       "            }\n",
       "            .progress-bar-interrupted, .progress-bar-interrupted::-webkit-progress-bar {\n",
       "                background: #F44336;\n",
       "            }\n",
       "        </style>\n",
       "      <progress value='0' class='' max='1', style='width:300px; height:20px; vertical-align: middle;'></progress>\n",
       "      0.00% [0/1 00:00<00:00]\n",
       "    </div>\n",
       "    \n",
       "<table border=\"1\" class=\"dataframe\">\n",
       "  <thead>\n",
       "    <tr style=\"text-align: left;\">\n",
       "      <th>epoch</th>\n",
       "      <th>train_loss</th>\n",
       "      <th>valid_loss</th>\n",
       "      <th>accuracy</th>\n",
       "      <th>time</th>\n",
       "    </tr>\n",
       "  </thead>\n",
       "  <tbody>\n",
       "  </tbody>\n",
       "</table><p>\n",
       "\n",
       "    <div>\n",
       "        <style>\n",
       "            /* Turns off some styling */\n",
       "            progress {\n",
       "                /* gets rid of default border in Firefox and Opera. */\n",
       "                border: none;\n",
       "                /* Needs to be in here for Safari polyfill so background images work as expected. */\n",
       "                background-size: auto;\n",
       "            }\n",
       "            .progress-bar-interrupted, .progress-bar-interrupted::-webkit-progress-bar {\n",
       "                background: #F44336;\n",
       "            }\n",
       "        </style>\n",
       "      <progress value='99' class='' max='8052', style='width:300px; height:20px; vertical-align: middle;'></progress>\n",
       "      1.23% [99/8052 00:59<1:19:05 8.4513]\n",
       "    </div>\n",
       "    "
      ],
      "text/plain": [
       "<IPython.core.display.HTML object>"
      ]
     },
     "metadata": {},
     "output_type": "display_data"
    },
    {
     "name": "stdout",
     "output_type": "stream",
     "text": [
      "LR Finder is complete, type {learner_name}.recorder.plot() to see the graph.\n"
     ]
    }
   ],
   "source": [
    "learn.lr_find()"
   ]
  },
  {
   "cell_type": "code",
   "execution_count": 46,
   "metadata": {},
   "outputs": [
    {
     "data": {
      "image/png": "[encoded data removed]",
      "text/plain": [
       "<Figure size 432x288 with 1 Axes>"
      ]
     },
     "metadata": {
      "needs_background": "light"
     },
     "output_type": "display_data"
    }
   ],
   "source": [
    "learn.recorder.plot()"
   ]
  },
  {
   "cell_type": "code",
   "execution_count": null,
   "metadata": {},
   "outputs": [
    {
     "data": {
      "text/html": [
       "\n",
       "    <div>\n",
       "        <style>\n",
       "            /* Turns off some styling */\n",
       "            progress {\n",
       "                /* gets rid of default border in Firefox and Opera. */\n",
       "                border: none;\n",
       "                /* Needs to be in here for Safari polyfill so background images work as expected. */\n",
       "                background-size: auto;\n",
       "            }\n",
       "            .progress-bar-interrupted, .progress-bar-interrupted::-webkit-progress-bar {\n",
       "                background: #F44336;\n",
       "            }\n",
       "        </style>\n",
       "      <progress value='0' class='' max='1', style='width:300px; height:20px; vertical-align: middle;'></progress>\n",
       "      0.00% [0/1 00:00<00:00]\n",
       "    </div>\n",
       "    \n",
       "<table border=\"1\" class=\"dataframe\">\n",
       "  <thead>\n",
       "    <tr style=\"text-align: left;\">\n",
       "      <th>epoch</th>\n",
       "      <th>train_loss</th>\n",
       "      <th>valid_loss</th>\n",
       "      <th>accuracy</th>\n",
       "      <th>time</th>\n",
       "    </tr>\n",
       "  </thead>\n",
       "  <tbody>\n",
       "  </tbody>\n",
       "</table><p>\n",
       "\n",
       "    <div>\n",
       "        <style>\n",
       "            /* Turns off some styling */\n",
       "            progress {\n",
       "                /* gets rid of default border in Firefox and Opera. */\n",
       "                border: none;\n",
       "                /* Needs to be in here for Safari polyfill so background images work as expected. */\n",
       "                background-size: auto;\n",
       "            }\n",
       "            .progress-bar-interrupted, .progress-bar-interrupted::-webkit-progress-bar {\n",
       "                background: #F44336;\n",
       "            }\n",
       "        </style>\n",
       "      <progress value='30' class='' max='521', style='width:300px; height:20px; vertical-align: middle;'></progress>\n",
       "      5.76% [30/521 00:16<04:26]\n",
       "    </div>\n",
       "    "
      ],
      "text/plain": [
       "<IPython.core.display.HTML object>"
      ]
     },
     "metadata": {},
     "output_type": "display_data"
    }
   ],
   "source": [
    "learn.fit_one_cycle(1, 2e-2, moms=(0.8,0.7))"
   ]
  },
  {
   "cell_type": "code",
   "execution_count": null,
   "metadata": {},
   "outputs": [],
   "source": [
    "learn.save('first')\n",
    "learn.load('first');"
   ]
  },
  {
   "cell_type": "markdown",
   "metadata": {},
   "source": [
    "#### 5b. Further Fine-tune Upper Levels"
   ]
  },
  {
   "cell_type": "code",
   "execution_count": 49,
   "metadata": {},
   "outputs": [
    {
     "data": {
      "text/html": [
       "<table border=\"1\" class=\"dataframe\">\n",
       "  <thead>\n",
       "    <tr style=\"text-align: left;\">\n",
       "      <th>epoch</th>\n",
       "      <th>train_loss</th>\n",
       "      <th>valid_loss</th>\n",
       "      <th>accuracy</th>\n",
       "      <th>time</th>\n",
       "    </tr>\n",
       "  </thead>\n",
       "  <tbody>\n",
       "    <tr>\n",
       "      <td>0</td>\n",
       "      <td>3.761498</td>\n",
       "      <td>4.379838</td>\n",
       "      <td>0.171429</td>\n",
       "      <td>25:22</td>\n",
       "    </tr>\n",
       "  </tbody>\n",
       "</table>"
      ],
      "text/plain": [
       "<IPython.core.display.HTML object>"
      ]
     },
     "metadata": {},
     "output_type": "display_data"
    }
   ],
   "source": [
    "learn.freeze_to(-2)\n",
    "learn.fit_one_cycle(1, slice(1e-2/(2.6**4),1e-2), moms=(0.8,0.7))"
   ]
  },
  {
   "cell_type": "code",
   "execution_count": 50,
   "metadata": {},
   "outputs": [],
   "source": [
    "learn.save('second')\n",
    "learn.load('second');"
   ]
  },
  {
   "cell_type": "code",
   "execution_count": null,
   "metadata": {},
   "outputs": [],
   "source": [
    "learn.freeze_to(-3)\n",
    "learn.fit_one_cycle(1, slice(5e-3/(2.6**4),5e-3), moms=(0.8,0.7))"
   ]
  },
  {
   "cell_type": "code",
   "execution_count": null,
   "metadata": {},
   "outputs": [],
   "source": [
    "learn.save('third')\n",
    "learn.load('third');"
   ]
  },
  {
   "cell_type": "code",
   "execution_count": null,
   "metadata": {},
   "outputs": [],
   "source": []
  }
 ],
 "metadata": {
  "kernelspec": {
   "display_name": "Python 3",
   "language": "python",
   "name": "python3"
  },
  "language_info": {
   "codemirror_mode": {
    "name": "ipython",
    "version": 3
   },
   "file_extension": ".py",
   "mimetype": "text/x-python",
   "name": "python",
   "nbconvert_exporter": "python",
   "pygments_lexer": "ipython3",
   "version": "3.6.10"
  }
 },
 "nbformat": 4,
 "nbformat_minor": 2
}
