{
 "cells": [
  {
   "cell_type": "code",
   "execution_count": 1,
   "metadata": {},
   "outputs": [],
   "source": [
    "import os\n",
    "import sys\n",
    "\n",
    "import numpy as np\n",
    "import pandas as pd\n",
    "import matplotlib.pyplot as plt\n",
    "import torch\n",
    "from fastai.text import *\n",
    "\n",
    "%reload_ext autoreload\n",
    "%autoreload 2\n",
    "%matplotlib inline"
   ]
  },
  {
   "cell_type": "code",
   "execution_count": 2,
   "metadata": {},
   "outputs": [],
   "source": [
    "bs = 48\n",
    "path = untar_data(URLs.IMDB)"
   ]
  },
  {
   "cell_type": "code",
   "execution_count": 3,
   "metadata": {},
   "outputs": [],
   "source": [
    "#data_lm = (TextList.from_folder(path)\n",
    "#            .filter_by_folder(include=['train', 'test', 'unsup']) \n",
    "#            .split_by_rand_pct(0.1)\n",
    "#            .label_for_lm()           \n",
    "#            .databunch(bs=bs))\n",
    "#data_lm.save('data_lm.pkl')\n",
    "\n",
    "data_lm = load_data(path, 'data_lm.pkl', bs = bs)"
   ]
  },
  {
   "cell_type": "code",
   "execution_count": 4,
   "metadata": {},
   "outputs": [],
   "source": [
    "learn = language_model_learner(data_lm, AWD_LSTM, drop_mult=0.3)"
   ]
  },
  {
   "cell_type": "markdown",
   "metadata": {},
   "source": [
    "### 0. Prior Inspection"
   ]
  },
  {
   "cell_type": "code",
   "execution_count": 5,
   "metadata": {},
   "outputs": [
    {
     "data": {
      "text/plain": [
       "60000"
      ]
     },
     "execution_count": 5,
     "metadata": {},
     "output_type": "execute_result"
    }
   ],
   "source": [
    "len(data_lm.vocab.itos)"
   ]
  },
  {
   "cell_type": "code",
   "execution_count": 6,
   "metadata": {},
   "outputs": [
    {
     "data": {
      "text/plain": [
       "torch.Size([60000, 400])"
      ]
     },
     "execution_count": 6,
     "metadata": {},
     "output_type": "execute_result"
    }
   ],
   "source": [
    "learn.model.state_dict()['0.encoder.weight'].shape"
   ]
  },
  {
   "cell_type": "markdown",
   "metadata": {},
   "source": [
    "### 1. Prepare Test Data"
   ]
  },
  {
   "cell_type": "code",
   "execution_count": 12,
   "metadata": {},
   "outputs": [
    {
     "data": {
      "text/plain": [
       "[68, 359, 503, 733, 1495, 2259]"
      ]
     },
     "execution_count": 12,
     "metadata": {},
     "output_type": "execute_result"
    }
   ],
   "source": [
    "learn.data.vocab.numericalize(['good', 'nice', 'horrible', 'king', 'queen', 'sun'])"
   ]
  },
  {
   "cell_type": "code",
   "execution_count": 8,
   "metadata": {},
   "outputs": [],
   "source": [
    "w_mat = learn.model.state_dict()['0.encoder.weight']"
   ]
  },
  {
   "cell_type": "code",
   "execution_count": 28,
   "metadata": {},
   "outputs": [],
   "source": [
    "def encode_word_vocab(word, w_mat):\n",
    "    \"\"\" direct index is fast and memory efficient \"\"\"\n",
    "    # pad one dim for sklearn computation\n",
    "    idx = data_lm.vocab.itos.index(word)\n",
    "    return w_mat[idx].cpu().numpy().reshape(-1, 1)"
   ]
  },
  {
   "cell_type": "code",
   "execution_count": 9,
   "metadata": {},
   "outputs": [],
   "source": [
    "def encode_word(idx, w_mat):\n",
    "    \"\"\" direct index is fast and memory efficient \"\"\"\n",
    "    # pad one dim for sklearn computation\n",
    "    return np.expand_dims(w_mat[idx].cpu().numpy(), axis = 0)"
   ]
  },
  {
   "cell_type": "code",
   "execution_count": 13,
   "metadata": {},
   "outputs": [],
   "source": [
    "good_emb = encode_word(68, w_mat)\n",
    "nice_emb = encode_word(359, w_mat)\n",
    "horrible_emb = encode_word(503, w_mat)\n",
    "king_emb = encode_word(733, w_mat)\n",
    "queen_emb = encode_word(1495, w_mat)\n",
    "sun_emb = encode_word(2259, w_mat)"
   ]
  },
  {
   "cell_type": "markdown",
   "metadata": {},
   "source": [
    "### 2. Test Cosine Similarity"
   ]
  },
  {
   "cell_type": "code",
   "execution_count": 11,
   "metadata": {},
   "outputs": [],
   "source": [
    "from sklearn.metrics.pairwise import cosine_similarity"
   ]
  },
  {
   "cell_type": "code",
   "execution_count": 16,
   "metadata": {},
   "outputs": [
    {
     "name": "stdout",
     "output_type": "stream",
     "text": [
      "king vs queen: 0.6706327199935913\n"
     ]
    }
   ],
   "source": [
    "print(f'king vs queen: {cosine_similarity(king_emb, queen_emb)[0][0]}')"
   ]
  },
  {
   "cell_type": "code",
   "execution_count": 18,
   "metadata": {},
   "outputs": [
    {
     "name": "stdout",
     "output_type": "stream",
     "text": [
      "king vs sun: 0.1983110010623932\n"
     ]
    }
   ],
   "source": [
    "print(f'king vs sun: {cosine_similarity(king_emb, sun_emb)[0][0]}')"
   ]
  },
  {
   "cell_type": "code",
   "execution_count": 17,
   "metadata": {},
   "outputs": [
    {
     "name": "stdout",
     "output_type": "stream",
     "text": [
      "good vs nice: 0.3581615090370178\n"
     ]
    }
   ],
   "source": [
    "print(f'good vs nice: {cosine_similarity(good_emb, nice_emb)[0][0]}')"
   ]
  },
  {
   "cell_type": "code",
   "execution_count": 19,
   "metadata": {},
   "outputs": [
    {
     "name": "stdout",
     "output_type": "stream",
     "text": [
      "good vs sun: 0.04677487164735794\n"
     ]
    }
   ],
   "source": [
    "print(f'good vs sun: {cosine_similarity(good_emb, sun_emb)[0][0]}')"
   ]
  },
  {
   "cell_type": "markdown",
   "metadata": {},
   "source": [
    "### 3. Test Inner Product"
   ]
  },
  {
   "cell_type": "code",
   "execution_count": 24,
   "metadata": {},
   "outputs": [
    {
     "name": "stdout",
     "output_type": "stream",
     "text": [
      "king v.s. queen: 13.336496353149414\n"
     ]
    }
   ],
   "source": [
    "print(f'king v.s. queen: {(king_emb * queen_emb).sum()}')"
   ]
  },
  {
   "cell_type": "code",
   "execution_count": 25,
   "metadata": {},
   "outputs": [
    {
     "name": "stdout",
     "output_type": "stream",
     "text": [
      "king v.s. sun: 3.981299877166748\n"
     ]
    }
   ],
   "source": [
    "print(f'king v.s. sun: {(king_emb * sun_emb).sum()}')"
   ]
  },
  {
   "cell_type": "code",
   "execution_count": 26,
   "metadata": {},
   "outputs": [
    {
     "name": "stdout",
     "output_type": "stream",
     "text": [
      "good v.s. nice: 5.647521018981934\n"
     ]
    }
   ],
   "source": [
    "print(f'good v.s. nice: {(good_emb * nice_emb).sum()}')"
   ]
  },
  {
   "cell_type": "code",
   "execution_count": 27,
   "metadata": {},
   "outputs": [
    {
     "name": "stdout",
     "output_type": "stream",
     "text": [
      "good v.s. sun: 0.8564869165420532\n"
     ]
    }
   ],
   "source": [
    "print(f'good v.s. sun: {(good_emb * sun_emb).sum()}')"
   ]
  },
  {
   "cell_type": "markdown",
   "metadata": {},
   "source": [
    "#### 4. Normalized Cosine Similarity"
   ]
  },
  {
   "cell_type": "code",
   "execution_count": null,
   "metadata": {},
   "outputs": [],
   "source": []
  }
 ],
 "metadata": {
  "kernelspec": {
   "display_name": "Python 3",
   "language": "python",
   "name": "python3"
  },
  "language_info": {
   "codemirror_mode": {
    "name": "ipython",
    "version": 3
   },
   "file_extension": ".py",
   "mimetype": "text/x-python",
   "name": "python",
   "nbconvert_exporter": "python",
   "pygments_lexer": "ipython3",
   "version": "3.6.10"
  }
 },
 "nbformat": 4,
 "nbformat_minor": 2
}
