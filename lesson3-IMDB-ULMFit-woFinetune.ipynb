{
 "cells": [
  {
   "cell_type": "markdown",
   "metadata": {},
   "source": [
    "#### Things to Try\n",
    "1. Try directly train classifier without Language Model fine-tuning\n",
    "    - Conditioned on a given text, generate texts with fine-tuned\n",
    "    - Generate again WITHOUT fine-tuned\n",
    "2. Try to recover the state (Databunch, partially trained model)\n",
    "3. Check out how Language Model is trained (supervised? unsupervised?)\n",
    "4. Visualize latent space for different semantic (WITH v.s. WITHOUT fine-tuning)"
   ]
  },
  {
   "cell_type": "code",
   "execution_count": 1,
   "metadata": {},
   "outputs": [],
   "source": [
    "%reload_ext autoreload\n",
    "%autoreload 2\n",
    "%matplotlib inline"
   ]
  },
  {
   "cell_type": "code",
   "execution_count": 2,
   "metadata": {},
   "outputs": [],
   "source": [
    "from fastai.text import *"
   ]
  },
  {
   "cell_type": "markdown",
   "metadata": {},
   "source": [
    "#### 1. Load in Data and Model (without Fine-tune)"
   ]
  },
  {
   "cell_type": "code",
   "execution_count": 3,
   "metadata": {},
   "outputs": [],
   "source": [
    "bs = 48\n",
    "path = untar_data(URLs.IMDB)"
   ]
  },
  {
   "cell_type": "code",
   "execution_count": 4,
   "metadata": {},
   "outputs": [],
   "source": [
    "data_clas = load_data(path, 'data_clas.pkl', bs = bs)"
   ]
  },
  {
   "cell_type": "code",
   "execution_count": 5,
   "metadata": {},
   "outputs": [
    {
     "data": {
      "text/html": [
       "<table border=\"1\" class=\"dataframe\">\n",
       "  <thead>\n",
       "    <tr style=\"text-align: right;\">\n",
       "      <th>text</th>\n",
       "      <th>target</th>\n",
       "    </tr>\n",
       "  </thead>\n",
       "  <tbody>\n",
       "    <tr>\n",
       "      <td>xxbos xxmaj match 1 : xxmaj tag xxmaj team xxmaj table xxmaj match xxmaj bubba xxmaj ray and xxmaj spike xxmaj dudley vs xxmaj eddie xxmaj guerrero and xxmaj chris xxmaj benoit xxmaj bubba xxmaj ray and xxmaj spike xxmaj dudley started things off with a xxmaj tag xxmaj team xxmaj table xxmaj match against xxmaj eddie xxmaj guerrero and xxmaj chris xxmaj benoit . xxmaj according to the rules</td>\n",
       "      <td>pos</td>\n",
       "    </tr>\n",
       "    <tr>\n",
       "      <td>xxbos * * xxmaj attention xxmaj spoilers * * \\n \\n  xxmaj first of all , let me say that xxmaj rob xxmaj roy is one of the best films of the 90 's . xxmaj it was an amazing achievement for all those involved , especially the acting of xxmaj liam xxmaj neeson , xxmaj jessica xxmaj lange , xxmaj john xxmaj hurt , xxmaj brian xxmaj cox</td>\n",
       "      <td>pos</td>\n",
       "    </tr>\n",
       "    <tr>\n",
       "      <td>xxbos xxmaj some have praised _ xxunk _ as a xxmaj disney adventure for adults . i do n't think so -- at least not for thinking adults . \\n \\n  xxmaj this script suggests a beginning as a live - action movie , that struck someone as the type of crap you can not sell to adults anymore . xxmaj the \" crack staff \" of many older</td>\n",
       "      <td>neg</td>\n",
       "    </tr>\n",
       "    <tr>\n",
       "      <td>xxbos xxmaj some have praised xxunk xxmaj lost xxmaj xxunk as a xxmaj disney adventure for adults . i do n't think so -- at least not for thinking adults . \\n \\n  xxmaj this script suggests a beginning as a live - action movie , that struck someone as the type of crap you can not sell to adults anymore . xxmaj the \" crack staff \" of</td>\n",
       "      <td>neg</td>\n",
       "    </tr>\n",
       "    <tr>\n",
       "      <td>xxbos xxmaj here are the matches . . . ( adv . = advantage ) \\n \\n  xxmaj the xxmaj warriors ( xxmaj ultimate xxmaj warrior , xxmaj texas xxmaj tornado and xxmaj legion of xxmaj doom ) v xxmaj the xxmaj perfect xxmaj team ( xxmaj mr xxmaj perfect , xxmaj ax , xxmaj smash and xxmaj crush of xxmaj demolition ) : xxmaj ax is the first</td>\n",
       "      <td>neg</td>\n",
       "    </tr>\n",
       "  </tbody>\n",
       "</table>"
      ],
      "text/plain": [
       "<IPython.core.display.HTML object>"
      ]
     },
     "metadata": {},
     "output_type": "display_data"
    }
   ],
   "source": [
    "data_clas.show_batch()"
   ]
  },
  {
   "cell_type": "markdown",
   "metadata": {},
   "source": [
    "#### 2. Find Good Learning Rate"
   ]
  },
  {
   "cell_type": "code",
   "execution_count": 6,
   "metadata": {},
   "outputs": [],
   "source": [
    "learn = text_classifier_learner(data_clas, AWD_LSTM, drop_mult=0.5)"
   ]
  },
  {
   "cell_type": "code",
   "execution_count": 13,
   "metadata": {},
   "outputs": [
    {
     "data": {
      "text/html": [
       "\n",
       "    <div>\n",
       "        <style>\n",
       "            /* Turns off some styling */\n",
       "            progress {\n",
       "                /* gets rid of default border in Firefox and Opera. */\n",
       "                border: none;\n",
       "                /* Needs to be in here for Safari polyfill so background images work as expected. */\n",
       "                background-size: auto;\n",
       "            }\n",
       "            .progress-bar-interrupted, .progress-bar-interrupted::-webkit-progress-bar {\n",
       "                background: #F44336;\n",
       "            }\n",
       "        </style>\n",
       "      <progress value='0' class='' max='1', style='width:300px; height:20px; vertical-align: middle;'></progress>\n",
       "      0.00% [0/1 00:00<00:00]\n",
       "    </div>\n",
       "    \n",
       "<table border=\"1\" class=\"dataframe\">\n",
       "  <thead>\n",
       "    <tr style=\"text-align: left;\">\n",
       "      <th>epoch</th>\n",
       "      <th>train_loss</th>\n",
       "      <th>valid_loss</th>\n",
       "      <th>accuracy</th>\n",
       "      <th>time</th>\n",
       "    </tr>\n",
       "  </thead>\n",
       "  <tbody>\n",
       "  </tbody>\n",
       "</table><p>\n",
       "\n",
       "    <div>\n",
       "        <style>\n",
       "            /* Turns off some styling */\n",
       "            progress {\n",
       "                /* gets rid of default border in Firefox and Opera. */\n",
       "                border: none;\n",
       "                /* Needs to be in here for Safari polyfill so background images work as expected. */\n",
       "                background-size: auto;\n",
       "            }\n",
       "            .progress-bar-interrupted, .progress-bar-interrupted::-webkit-progress-bar {\n",
       "                background: #F44336;\n",
       "            }\n",
       "        </style>\n",
       "      <progress value='95' class='' max='520', style='width:300px; height:20px; vertical-align: middle;'></progress>\n",
       "      18.27% [95/520 01:33<06:57 2.2025]\n",
       "    </div>\n",
       "    "
      ],
      "text/plain": [
       "<IPython.core.display.HTML object>"
      ]
     },
     "metadata": {},
     "output_type": "display_data"
    },
    {
     "name": "stdout",
     "output_type": "stream",
     "text": [
      "LR Finder is complete, type {learner_name}.recorder.plot() to see the graph.\n"
     ]
    }
   ],
   "source": [
    "learn.lr_find()"
   ]
  },
  {
   "cell_type": "code",
   "execution_count": 14,
   "metadata": {},
   "outputs": [
    {
     "data": {
      "image/png": "[encoded data removed]",
      "text/plain": [
       "<Figure size 432x288 with 1 Axes>"
      ]
     },
     "metadata": {
      "needs_background": "light"
     },
     "output_type": "display_data"
    }
   ],
   "source": [
    "learn.recorder.plot()"
   ]
  },
  {
   "cell_type": "markdown",
   "metadata": {},
   "source": [
    "#### 3. Incremental Training (on More Layers)"
   ]
  },
  {
   "cell_type": "code",
   "execution_count": 10,
   "metadata": {},
   "outputs": [
    {
     "data": {
      "text/html": [
       "<table border=\"1\" class=\"dataframe\">\n",
       "  <thead>\n",
       "    <tr style=\"text-align: left;\">\n",
       "      <th>epoch</th>\n",
       "      <th>train_loss</th>\n",
       "      <th>valid_loss</th>\n",
       "      <th>accuracy</th>\n",
       "      <th>time</th>\n",
       "    </tr>\n",
       "  </thead>\n",
       "  <tbody>\n",
       "    <tr>\n",
       "      <td>0</td>\n",
       "      <td>0.694205</td>\n",
       "      <td>0.696254</td>\n",
       "      <td>0.442240</td>\n",
       "      <td>27:11</td>\n",
       "    </tr>\n",
       "    <tr>\n",
       "      <td>1</td>\n",
       "      <td>0.689991</td>\n",
       "      <td>0.691999</td>\n",
       "      <td>0.512640</td>\n",
       "      <td>32:16</td>\n",
       "    </tr>\n",
       "  </tbody>\n",
       "</table>"
      ],
      "text/plain": [
       "<IPython.core.display.HTML object>"
      ]
     },
     "metadata": {},
     "output_type": "display_data"
    }
   ],
   "source": [
    "learn.fit_one_cycle(2, 2e-2, moms=(0.8,0.7))"
   ]
  },
  {
   "cell_type": "code",
   "execution_count": 11,
   "metadata": {},
   "outputs": [],
   "source": [
    "learn.save('first')"
   ]
  },
  {
   "cell_type": "code",
   "execution_count": 12,
   "metadata": {},
   "outputs": [],
   "source": [
    "learn.load('first');"
   ]
  },
  {
   "cell_type": "code",
   "execution_count": 13,
   "metadata": {},
   "outputs": [
    {
     "data": {
      "text/html": [
       "<table border=\"1\" class=\"dataframe\">\n",
       "  <thead>\n",
       "    <tr style=\"text-align: left;\">\n",
       "      <th>epoch</th>\n",
       "      <th>train_loss</th>\n",
       "      <th>valid_loss</th>\n",
       "      <th>accuracy</th>\n",
       "      <th>time</th>\n",
       "    </tr>\n",
       "  </thead>\n",
       "  <tbody>\n",
       "    <tr>\n",
       "      <td>0</td>\n",
       "      <td>0.678965</td>\n",
       "      <td>0.665264</td>\n",
       "      <td>0.631880</td>\n",
       "      <td>05:16</td>\n",
       "    </tr>\n",
       "  </tbody>\n",
       "</table>"
      ],
      "text/plain": [
       "<IPython.core.display.HTML object>"
      ]
     },
     "metadata": {},
     "output_type": "display_data"
    }
   ],
   "source": [
    "learn.freeze_to(-2)\n",
    "learn.fit_one_cycle(1, slice(1e-2/(2.6**4),1e-2), moms=(0.8,0.7))"
   ]
  },
  {
   "cell_type": "code",
   "execution_count": 14,
   "metadata": {},
   "outputs": [],
   "source": [
    "learn.save('second')"
   ]
  },
  {
   "cell_type": "code",
   "execution_count": 15,
   "metadata": {},
   "outputs": [],
   "source": [
    "learn.load('second');"
   ]
  },
  {
   "cell_type": "code",
   "execution_count": 16,
   "metadata": {},
   "outputs": [
    {
     "data": {
      "text/html": [
       "<table border=\"1\" class=\"dataframe\">\n",
       "  <thead>\n",
       "    <tr style=\"text-align: left;\">\n",
       "      <th>epoch</th>\n",
       "      <th>train_loss</th>\n",
       "      <th>valid_loss</th>\n",
       "      <th>accuracy</th>\n",
       "      <th>time</th>\n",
       "    </tr>\n",
       "  </thead>\n",
       "  <tbody>\n",
       "    <tr>\n",
       "      <td>0</td>\n",
       "      <td>0.576077</td>\n",
       "      <td>0.544759</td>\n",
       "      <td>0.734760</td>\n",
       "      <td>06:23</td>\n",
       "    </tr>\n",
       "  </tbody>\n",
       "</table>"
      ],
      "text/plain": [
       "<IPython.core.display.HTML object>"
      ]
     },
     "metadata": {},
     "output_type": "display_data"
    }
   ],
   "source": [
    "learn.freeze_to(-3)\n",
    "learn.fit_one_cycle(1, slice(5e-3/(2.6**4),5e-3), moms=(0.8,0.7))"
   ]
  },
  {
   "cell_type": "code",
   "execution_count": 17,
   "metadata": {},
   "outputs": [],
   "source": [
    "learn.save('third')"
   ]
  },
  {
   "cell_type": "code",
   "execution_count": 7,
   "metadata": {},
   "outputs": [],
   "source": [
    "learn.load('third');"
   ]
  },
  {
   "cell_type": "code",
   "execution_count": 8,
   "metadata": {},
   "outputs": [
    {
     "data": {
      "text/html": [
       "<table border=\"1\" class=\"dataframe\">\n",
       "  <thead>\n",
       "    <tr style=\"text-align: left;\">\n",
       "      <th>epoch</th>\n",
       "      <th>train_loss</th>\n",
       "      <th>valid_loss</th>\n",
       "      <th>accuracy</th>\n",
       "      <th>time</th>\n",
       "    </tr>\n",
       "  </thead>\n",
       "  <tbody>\n",
       "    <tr>\n",
       "      <td>0</td>\n",
       "      <td>0.551202</td>\n",
       "      <td>0.513344</td>\n",
       "      <td>0.756040</td>\n",
       "      <td>08:06</td>\n",
       "    </tr>\n",
       "    <tr>\n",
       "      <td>1</td>\n",
       "      <td>0.463466</td>\n",
       "      <td>0.402578</td>\n",
       "      <td>0.824320</td>\n",
       "      <td>05:45</td>\n",
       "    </tr>\n",
       "    <tr>\n",
       "      <td>2</td>\n",
       "      <td>0.373074</td>\n",
       "      <td>0.359667</td>\n",
       "      <td>0.838000</td>\n",
       "      <td>05:39</td>\n",
       "    </tr>\n",
       "    <tr>\n",
       "      <td>3</td>\n",
       "      <td>0.322002</td>\n",
       "      <td>0.308401</td>\n",
       "      <td>0.869160</td>\n",
       "      <td>05:36</td>\n",
       "    </tr>\n",
       "    <tr>\n",
       "      <td>4</td>\n",
       "      <td>0.285316</td>\n",
       "      <td>0.296348</td>\n",
       "      <td>0.874640</td>\n",
       "      <td>05:27</td>\n",
       "    </tr>\n",
       "    <tr>\n",
       "      <td>5</td>\n",
       "      <td>0.268584</td>\n",
       "      <td>0.286999</td>\n",
       "      <td>0.879240</td>\n",
       "      <td>05:05</td>\n",
       "    </tr>\n",
       "    <tr>\n",
       "      <td>6</td>\n",
       "      <td>0.243693</td>\n",
       "      <td>0.270516</td>\n",
       "      <td>0.888400</td>\n",
       "      <td>04:57</td>\n",
       "    </tr>\n",
       "    <tr>\n",
       "      <td>7</td>\n",
       "      <td>0.246897</td>\n",
       "      <td>0.266772</td>\n",
       "      <td>0.890120</td>\n",
       "      <td>05:17</td>\n",
       "    </tr>\n",
       "  </tbody>\n",
       "</table>"
      ],
      "text/plain": [
       "<IPython.core.display.HTML object>"
      ]
     },
     "metadata": {},
     "output_type": "display_data"
    }
   ],
   "source": [
    "learn.unfreeze()\n",
    "learn.fit_one_cycle(8, slice(1e-3/(2.6**4),1e-3), moms=(0.8,0.7))"
   ]
  },
  {
   "cell_type": "code",
   "execution_count": 8,
   "metadata": {},
   "outputs": [
    {
     "data": {
      "text/html": [
       "<table border=\"1\" class=\"dataframe\">\n",
       "  <thead>\n",
       "    <tr style=\"text-align: left;\">\n",
       "      <th>epoch</th>\n",
       "      <th>train_loss</th>\n",
       "      <th>valid_loss</th>\n",
       "      <th>accuracy</th>\n",
       "      <th>time</th>\n",
       "    </tr>\n",
       "  </thead>\n",
       "  <tbody>\n",
       "    <tr>\n",
       "      <td>0</td>\n",
       "      <td>0.226146</td>\n",
       "      <td>0.255417</td>\n",
       "      <td>0.895200</td>\n",
       "      <td>08:10</td>\n",
       "    </tr>\n",
       "    <tr>\n",
       "      <td>1</td>\n",
       "      <td>0.213130</td>\n",
       "      <td>0.257372</td>\n",
       "      <td>0.895000</td>\n",
       "      <td>05:04</td>\n",
       "    </tr>\n",
       "  </tbody>\n",
       "</table>"
      ],
      "text/plain": [
       "<IPython.core.display.HTML object>"
      ]
     },
     "metadata": {},
     "output_type": "display_data"
    }
   ],
   "source": [
    "learn.unfreeze()\n",
    "learn.fit_one_cycle(2, slice(1e-3/(2.6**4),1e-3), moms=(0.8,0.7))"
   ]
  },
  {
   "cell_type": "code",
   "execution_count": 11,
   "metadata": {},
   "outputs": [
    {
     "data": {
      "text/html": [
       "<table border=\"1\" class=\"dataframe\">\n",
       "  <thead>\n",
       "    <tr style=\"text-align: left;\">\n",
       "      <th>epoch</th>\n",
       "      <th>train_loss</th>\n",
       "      <th>valid_loss</th>\n",
       "      <th>accuracy</th>\n",
       "      <th>time</th>\n",
       "    </tr>\n",
       "  </thead>\n",
       "  <tbody>\n",
       "    <tr>\n",
       "      <td>0</td>\n",
       "      <td>0.200890</td>\n",
       "      <td>0.262971</td>\n",
       "      <td>0.893080</td>\n",
       "      <td>07:25</td>\n",
       "    </tr>\n",
       "    <tr>\n",
       "      <td>1</td>\n",
       "      <td>0.181472</td>\n",
       "      <td>0.250942</td>\n",
       "      <td>0.899440</td>\n",
       "      <td>04:58</td>\n",
       "    </tr>\n",
       "  </tbody>\n",
       "</table>"
      ],
      "text/plain": [
       "<IPython.core.display.HTML object>"
      ]
     },
     "metadata": {},
     "output_type": "display_data"
    }
   ],
   "source": [
    "learn.unfreeze()\n",
    "learn.fit_one_cycle(2, slice(1e-3/(2.6**4),1e-3), moms=(0.8,0.7))"
   ]
  },
  {
   "cell_type": "code",
   "execution_count": 12,
   "metadata": {},
   "outputs": [],
   "source": [
    "learn.save('final')"
   ]
  },
  {
   "cell_type": "code",
   "execution_count": 7,
   "metadata": {
    "collapsed": true
   },
   "outputs": [
    {
     "data": {
      "text/plain": [
       "RNNLearner(data=TextClasDataBunch;\n",
       "\n",
       "Train: LabelList (25000 items)\n",
       "x: TextList\n",
       "xxbos xxmaj obviously made to show famous 1950s stripper xxmaj misty xxmaj ayers \" acting \" talents . xxmaj too bad she ca n't act . \n",
       " \n",
       "  xxmaj boring little tale about sweet , innocent xxmaj sally xxmaj down ( xxmaj ayers ) being drugged and forced into white slavery ( prostitution ) . xxmaj then she meets likable xxmaj tommy xxmaj cole who instantly falls in love with her . xxmaj he wants to help her escape but can he ? xxmaj you really wo n't care . \n",
       " \n",
       "  xxmaj there 's no real skin here -- xxmaj ayers just strips down xxup slowly to her underwear ( twice ) . xxmaj the rest is just a boring little tale chockful of bad acting , atrocious \" comedy \" ( never thought prostitution was funny but what do i know ? ) and terrible post - dubbed dialogue . i admit there was a twist at the end i did n't see coming but that 's not enough to sit through this . xxmaj also xxmaj ayers ' attempts at acting are hysterical ! a real bomb . xxmaj avoid .,xxbos xxmaj dennis xxmaj hopper is without a doubt one of the finest underrated xxmaj american actors of our time , and it was interesting to see how he would play out his role as a cop on the case of a child serial killer . xxmaj most movies xxmaj hopper has always played to psychotic menace threatening to blow up stuff or go on a killing spree , but in this movie , xxmaj hopper tried his best to keep that intensity and emotion while carrying a shield . xxmaj once i got into the plot of the movie , i was hooked , but it 's just the little things that ultimately murdered the film . \n",
       " \n",
       "  xxmaj the concept of the film is great - not only are the cops on the move of catching the killer , but we get a chance to see how the gangsters operate in catching the killer . xxmaj the subplot of the football stadium is kinda ridiculous , but necessary to involve the gangsters in the killer hunt . \n",
       " \n",
       "  xxmaj that 's about all that is good you can say about the film . xxmaj although xxmaj hopper did try to act like a tough , experienced street smart cop , i ca n't help but feel his acting was below par , and there was n't enough conviction that he was truly attached to the case . xxmaj the directing was also terrible - it did n't have the feel of a true film , but rather a xxup tv - movie production . xxmaj this is most evident when the gangsters meet for the first time to form an elite team to hunt the killer down . xxmaj when the leading gangster shoots the other mouthy gangster in slow motion , the acting was weak , predictable and terribly unexciting . xxmaj that 's when i knew that 1st of all , the action is going to be atrocious . \n",
       " \n",
       "  xxmaj the xxunk of the camera was amateurish , and the recalling scenes or haunting images of the killer 's little sister had no true distinctive effect . xxmaj if it was supposed to be scary , it was n't . xxmaj everyone 's acting was terrible , and even for xxmaj hopper , i did n't feel for his character , and i just did n't really care too much about his relationship with his daughter . \n",
       " \n",
       "  xxmaj the final thing that bothered me the most is the swat team . xxmaj once i saw the swat team in action , i was thinking , finally , something good . xxmaj but i was wrong . 1st of all , the entire swat team consisted of 4 guys . xxmaj that is just impossible . 2nd of all , apparently the swat team has no training whatsoever because many times in the film they carry their xxup xxunk submachine guns with one hand . xxmaj had the killer been hiding near the staircase with a shotgun , these 4 idiots would 've been blown to bits because they were n't even aiming at anything or paying close attention . xxmaj they should have had both hands on the gun aiming forward , but it just looks like they 're not taking the job seriously and are just flaunting around . 3rd , xxup swat team members do not yell out commands such as \" xxmaj keep your eyes open , watch out for yourselves , are we good to go ... etc . \" xxmaj in reality , they use hand signals or have radios . xxmaj but they 're literally yelling at each other - how are you supposed to catch the killer when he can hear you 're coming ? ? ? xxmaj and to top it all off , these guys have no plan - apparently they 're just running up and down going on a wild turkey chase . xxmaj eventually they end up doing nothing . xxmaj that was the last straw . i 'm no expert on special forces , but basically what i 've just outlined , is pretty common sense . xxmaj when the audience knows the movie is terrible , the action pretty much becomes the life - saver of the movie - when you ca n't even make an effort to make the action great , the movie is lost . \n",
       " \n",
       "  i give 2 stars for the concept , but the rest can not be credited . xxmaj if you want to watch a crime thriller , do n't bother with this one . xxmaj there 's plenty of crime in the movie - but it has the lack of thrill .,xxbos xxmaj painful to watch , and not entirely for empathy with the struggles of the characters . xxmaj two of the main characters , xxmaj cynthia the mother and xxmaj monica the acknowledged daughter , spend the great bulk of the film pathetically mewling and bitterly bitching respectively . xxmaj their characters are so firmly established that their redemption into tolerable personalities after a quick family catharsis is unbelievable . xxmaj it was n't worth the wait . i wish a worthy pitch for honesty among families was less of a headache to view .,xxbos i already know that critics and some audiences say that it was a satire , there were numerous political and social messages , the names make refer to some other names etc . xxmaj it might be . i can not realize such things ( i do n't want to do anyway ) because i am not interested in , i am interested in ' cinema ' . xxmaj as for the movie itself , again it is said that the movie is clever and dramatically powerful . i could not see anything which we do n't see in monster movies except the scene which takes place in a office in the second half . xxmaj yes , that scene says somethings about humanity , but it does not make the movie brilliant . xxmaj the movie is entertaining ( mildly ) and exciting in some moments or scenes , but no more than that . xxmaj as for the biggest flaw of the movie , it is visual effects . xxmaj it was just shocking , i could not pull myself together for a while , because i had expected a realistic monster , because it is not one of the old xxmaj gojira movies , it was made in 2006 , but it was not . xxmaj it is like if you do n't believe that there is a monster , you can not care about . xxmaj if you agree with me about this , i highly recommend you xxmaj cloverfield that is extremely realistic . xxmaj the design of the monster is not interesting , but at least planned , there is an effort . xxmaj dramatically powerful critique . xxmaj some critics talk about it as if it is a xxmaj kurosawa movie . xxmaj yes , it is rather a drama than a thriller or action , but it should not mean that it is dramatically powerful . i do n't want to compare xxmaj the xxmaj host with other monster movies , but i try to mean that xxmaj the xxmaj host does not do something that other monster movies do not do . xxmaj by the way , may be some people call the movie masterpiece because of their sympathy for xxmaj asian cinema . xxmaj yes , i like xxmaj asian cinema too , but this is the fact .,xxbos xxmaj one of the worst romantic comedies ( nay , worst movies ) i 've ever seen . xxmaj boy ( who works as a phone psychic ! ) must pretend to be gay to move into apartment with woman of his dreams . xxmaj hilarity does not ensue . xxmaj boredom , light gay - bashing , and horrible dialogue do . xxmaj if you read xxmaj brad xxmaj xxunk and like his crappy dialogue , you 'll like this movie . \n",
       " \n",
       "  xxmaj be smart . xxmaj avoid this . if you see it , destroy the copy .\n",
       "y: CategoryList\n",
       "neg,neg,neg,neg,neg\n",
       "Path: /userhome/34/h3509807/.fastai/data/imdb;\n",
       "\n",
       "Valid: LabelList (25000 items)\n",
       "x: TextList\n",
       "xxbos i thought this movie was brilliant . xxmaj it was so funny and so true too . a great idea for a movie . xxmaj five groups of friends on their way to schoolies . i 've got to say that xxmaj matt xxmaj newton as xxmaj mason was probably my favourite character . i wish i could give this movie more than a 10 rating .,xxbos xxmaj it 'll soon be 10 yrs since this movie was released xxrep 4 . still makes me laugh xxrep 4 . xxmaj if u enjoy this film , try the new xxmaj hera xxmaj pheri xxrep 4 . xxunk as hilarious . xxmaj and my favourite bit of the film must be when xxmaj salman realises that he has no bullets left in his gun while he has the upper hand and has everyone at gun point ... and he actually says it out loud ! ! ! u just wanna bash him xxrep 4 . but u know u can only do that if u stop laughing xxrep 4 ! xxmaj fantastic film xxrep 4 . 10 / 10,xxbos xxmaj we do n't know why this extraordinary film was never made available officially on xxup dvd ... xxmaj anthony xxmaj quinn 's performance alone makes this a must - see . xxmaj there are relatively few films in which an actor identifies so profoundly with his character , a phenomenon always unique for us , moviegoers . \n",
       " \n",
       "  xxmaj but xxmaj quinn 's powerful portrayal of an innocent xxmaj romanian , literally dragged out of his house and everyday life by forces he can not comprehend , is only part of what makes this film great . xxmaj the script is based on a book published in xxmaj paris by a xxmaj romanian priest who fled the xxmaj communist take - over of his country , and the film succeeds to go deep into a little known area of xxmaj east - xxmaj european history . xxmaj told as a succession of xxmaj kafka - esquire twists of fate , the misadventures of xxmaj johann xxmaj moritz ( told openly and honestly , without any of the political correctness currently so precious in xxmaj hollywood ) are in fact a eulogy for the lost innocence of the xxmaj romanian people ... it is devilishly ironic that this eulogy is signed by a xxmaj french director , working with the xxmaj american money of an xxmaj italian producer , and overseeing a multinational cast fronted by an extraordinary xxmaj mexican - born thespian . \n",
       " \n",
       "  i 've seen mentions of vcds of this film in various xxmaj asian internet stores , and i was fortunate to take possession of a digital recording of this film , broadcast on the xxmaj british version of xxup tcm . xxmaj but it 's a shame that \" xxmaj the 25th xxmaj hour \" is n't anywhere on the future xxup dvd release map of xxup mgm studios .,xxbos xxmaj this truly is an xxmaj australia cult classic . xxmaj if you 're one of the lucky ones to have seen it-- then you are very lucky . xxmaj it has been released in most countries , but not in xxmaj australia for some reason . i have a copy on xxup dvd from the xxup uk . xxmaj not a great transfer , but i bought it , having seen it previously at a film festival . xxmaj the directing is spot on and the performances rock ! xxmaj this is dark film scary film , but often times , very funny in parts . i urge you to see this film , there is a coolness about this you do n't see in 99 % of the typical xxmaj aussie fare . xxmaj the screenplay is very well crafted and sends you on a journey where you know it will end badly , but until the last ten minutes , you just ca n't pick how badly . xxmaj great work from the four leads , especially xxmaj lachy xxmaj hulme . \n",
       " \n",
       "  xxmaj when its all said and done : xxmaj great work on display !,xxbos xxmaj ida xxmaj lupino is trapped in her own home by crazy xxmaj robert xxmaj ryan in \" xxmaj beware , xxmaj my xxmaj lovely , \" a 1952 film from xxup rko . xxmaj lupino and xxmaj ryan did three films together and worked well as a team , both being consummate professionals and strong performers . xxmaj in this film , based on a xxmaj broadway play called \" xxmaj the xxmaj man , \" xxmaj lupino is a xxmaj world xxmaj war i widow who rents out a room in her home . xxmaj she 's very active and well - liked in her community and though her husband has been dead for two years , she 's not ready to move on . xxmaj the man who rents her room goes on vacation , and xxmaj lupino hires xxmaj robert xxmaj ryan to help her with some heavy - duty cleaning in the house . xxmaj he 's friendly enough to start , but later terrorizes her , locking her in the house , and not allowing her to answer the phone or the door , as he grows violent and more out of touch with reality . \n",
       " \n",
       "  xxmaj the character played by xxmaj ryan is shown in the beginning of the movie running away when he discovers a dead body in another house he 's working in . xxmaj it is n't clear whether or not he 's the killer , since he seems surprised to see the body . xxmaj he might be a split personality , as when his personality turns ugly toward xxmaj lupino , he seems to have no memory of his activities when he comes out of it . xxmaj he does n't know that he has the keys to xxmaj lupino 's house in his pocket and does n't know why he has tickets to a party that he bought from young children who came to the door . \n",
       " \n",
       "  \" xxmaj beware , xxmaj my xxmaj lovely , \" is a very suspenseful film , and the two leads give terrific performances . xxmaj the tension builds to a very high level and ends in a way you 're not expecting .\n",
       "y: CategoryList\n",
       "pos,pos,pos,pos,pos\n",
       "Path: /userhome/34/h3509807/.fastai/data/imdb;\n",
       "\n",
       "Test: None, model=SequentialRNN(\n",
       "  (0): MultiBatchEncoder(\n",
       "    (module): AWD_LSTM(\n",
       "      (encoder): Embedding(60000, 400, padding_idx=1)\n",
       "      (encoder_dp): EmbeddingDropout(\n",
       "        (emb): Embedding(60000, 400, padding_idx=1)\n",
       "      )\n",
       "      (rnns): ModuleList(\n",
       "        (0): WeightDropout(\n",
       "          (module): LSTM(400, 1152, batch_first=True)\n",
       "        )\n",
       "        (1): WeightDropout(\n",
       "          (module): LSTM(1152, 1152, batch_first=True)\n",
       "        )\n",
       "        (2): WeightDropout(\n",
       "          (module): LSTM(1152, 400, batch_first=True)\n",
       "        )\n",
       "      )\n",
       "      (input_dp): RNNDropout()\n",
       "      (hidden_dps): ModuleList(\n",
       "        (0): RNNDropout()\n",
       "        (1): RNNDropout()\n",
       "        (2): RNNDropout()\n",
       "      )\n",
       "    )\n",
       "  )\n",
       "  (1): PoolingLinearClassifier(\n",
       "    (layers): Sequential(\n",
       "      (0): BatchNorm1d(1200, eps=1e-05, momentum=0.1, affine=True, track_running_stats=True)\n",
       "      (1): Dropout(p=0.2, inplace=False)\n",
       "      (2): Linear(in_features=1200, out_features=50, bias=True)\n",
       "      (3): ReLU(inplace=True)\n",
       "      (4): BatchNorm1d(50, eps=1e-05, momentum=0.1, affine=True, track_running_stats=True)\n",
       "      (5): Dropout(p=0.1, inplace=False)\n",
       "      (6): Linear(in_features=50, out_features=2, bias=True)\n",
       "    )\n",
       "  )\n",
       "), opt_func=functools.partial(<class 'torch.optim.adam.Adam'>, betas=(0.9, 0.99)), loss_func=FlattenedLoss of CrossEntropyLoss(), metrics=[<function accuracy at 0x7f1c2af3d1e0>], true_wd=True, bn_wd=True, wd=0.01, train_bn=True, path=PosixPath('/userhome/34/h3509807/.fastai/data/imdb'), model_dir='models', callback_fns=[functools.partial(<class 'fastai.basic_train.Recorder'>, add_time=True, silent=False)], callbacks=[RNNTrainer\n",
       "learn: RNNLearner(data=TextClasDataBunch;\n",
       "\n",
       "Train: LabelList (25000 items)\n",
       "x: TextList\n",
       "xxbos xxmaj obviously made to show famous 1950s stripper xxmaj misty xxmaj ayers \" acting \" talents . xxmaj too bad she ca n't act . \n",
       " \n",
       "  xxmaj boring little tale about sweet , innocent xxmaj sally xxmaj down ( xxmaj ayers ) being drugged and forced into white slavery ( prostitution ) . xxmaj then she meets likable xxmaj tommy xxmaj cole who instantly falls in love with her . xxmaj he wants to help her escape but can he ? xxmaj you really wo n't care . \n",
       " \n",
       "  xxmaj there 's no real skin here -- xxmaj ayers just strips down xxup slowly to her underwear ( twice ) . xxmaj the rest is just a boring little tale chockful of bad acting , atrocious \" comedy \" ( never thought prostitution was funny but what do i know ? ) and terrible post - dubbed dialogue . i admit there was a twist at the end i did n't see coming but that 's not enough to sit through this . xxmaj also xxmaj ayers ' attempts at acting are hysterical ! a real bomb . xxmaj avoid .,xxbos xxmaj dennis xxmaj hopper is without a doubt one of the finest underrated xxmaj american actors of our time , and it was interesting to see how he would play out his role as a cop on the case of a child serial killer . xxmaj most movies xxmaj hopper has always played to psychotic menace threatening to blow up stuff or go on a killing spree , but in this movie , xxmaj hopper tried his best to keep that intensity and emotion while carrying a shield . xxmaj once i got into the plot of the movie , i was hooked , but it 's just the little things that ultimately murdered the film . \n",
       " \n",
       "  xxmaj the concept of the film is great - not only are the cops on the move of catching the killer , but we get a chance to see how the gangsters operate in catching the killer . xxmaj the subplot of the football stadium is kinda ridiculous , but necessary to involve the gangsters in the killer hunt . \n",
       " \n",
       "  xxmaj that 's about all that is good you can say about the film . xxmaj although xxmaj hopper did try to act like a tough , experienced street smart cop , i ca n't help but feel his acting was below par , and there was n't enough conviction that he was truly attached to the case . xxmaj the directing was also terrible - it did n't have the feel of a true film , but rather a xxup tv - movie production . xxmaj this is most evident when the gangsters meet for the first time to form an elite team to hunt the killer down . xxmaj when the leading gangster shoots the other mouthy gangster in slow motion , the acting was weak , predictable and terribly unexciting . xxmaj that 's when i knew that 1st of all , the action is going to be atrocious . \n",
       " \n",
       "  xxmaj the xxunk of the camera was amateurish , and the recalling scenes or haunting images of the killer 's little sister had no true distinctive effect . xxmaj if it was supposed to be scary , it was n't . xxmaj everyone 's acting was terrible , and even for xxmaj hopper , i did n't feel for his character , and i just did n't really care too much about his relationship with his daughter . \n",
       " \n",
       "  xxmaj the final thing that bothered me the most is the swat team . xxmaj once i saw the swat team in action , i was thinking , finally , something good . xxmaj but i was wrong . 1st of all , the entire swat team consisted of 4 guys . xxmaj that is just impossible . 2nd of all , apparently the swat team has no training whatsoever because many times in the film they carry their xxup xxunk submachine guns with one hand . xxmaj had the killer been hiding near the staircase with a shotgun , these 4 idiots would 've been blown to bits because they were n't even aiming at anything or paying close attention . xxmaj they should have had both hands on the gun aiming forward , but it just looks like they 're not taking the job seriously and are just flaunting around . 3rd , xxup swat team members do not yell out commands such as \" xxmaj keep your eyes open , watch out for yourselves , are we good to go ... etc . \" xxmaj in reality , they use hand signals or have radios . xxmaj but they 're literally yelling at each other - how are you supposed to catch the killer when he can hear you 're coming ? ? ? xxmaj and to top it all off , these guys have no plan - apparently they 're just running up and down going on a wild turkey chase . xxmaj eventually they end up doing nothing . xxmaj that was the last straw . i 'm no expert on special forces , but basically what i 've just outlined , is pretty common sense . xxmaj when the audience knows the movie is terrible , the action pretty much becomes the life - saver of the movie - when you ca n't even make an effort to make the action great , the movie is lost . \n",
       " \n",
       "  i give 2 stars for the concept , but the rest can not be credited . xxmaj if you want to watch a crime thriller , do n't bother with this one . xxmaj there 's plenty of crime in the movie - but it has the lack of thrill .,xxbos xxmaj painful to watch , and not entirely for empathy with the struggles of the characters . xxmaj two of the main characters , xxmaj cynthia the mother and xxmaj monica the acknowledged daughter , spend the great bulk of the film pathetically mewling and bitterly bitching respectively . xxmaj their characters are so firmly established that their redemption into tolerable personalities after a quick family catharsis is unbelievable . xxmaj it was n't worth the wait . i wish a worthy pitch for honesty among families was less of a headache to view .,xxbos i already know that critics and some audiences say that it was a satire , there were numerous political and social messages , the names make refer to some other names etc . xxmaj it might be . i can not realize such things ( i do n't want to do anyway ) because i am not interested in , i am interested in ' cinema ' . xxmaj as for the movie itself , again it is said that the movie is clever and dramatically powerful . i could not see anything which we do n't see in monster movies except the scene which takes place in a office in the second half . xxmaj yes , that scene says somethings about humanity , but it does not make the movie brilliant . xxmaj the movie is entertaining ( mildly ) and exciting in some moments or scenes , but no more than that . xxmaj as for the biggest flaw of the movie , it is visual effects . xxmaj it was just shocking , i could not pull myself together for a while , because i had expected a realistic monster , because it is not one of the old xxmaj gojira movies , it was made in 2006 , but it was not . xxmaj it is like if you do n't believe that there is a monster , you can not care about . xxmaj if you agree with me about this , i highly recommend you xxmaj cloverfield that is extremely realistic . xxmaj the design of the monster is not interesting , but at least planned , there is an effort . xxmaj dramatically powerful critique . xxmaj some critics talk about it as if it is a xxmaj kurosawa movie . xxmaj yes , it is rather a drama than a thriller or action , but it should not mean that it is dramatically powerful . i do n't want to compare xxmaj the xxmaj host with other monster movies , but i try to mean that xxmaj the xxmaj host does not do something that other monster movies do not do . xxmaj by the way , may be some people call the movie masterpiece because of their sympathy for xxmaj asian cinema . xxmaj yes , i like xxmaj asian cinema too , but this is the fact .,xxbos xxmaj one of the worst romantic comedies ( nay , worst movies ) i 've ever seen . xxmaj boy ( who works as a phone psychic ! ) must pretend to be gay to move into apartment with woman of his dreams . xxmaj hilarity does not ensue . xxmaj boredom , light gay - bashing , and horrible dialogue do . xxmaj if you read xxmaj brad xxmaj xxunk and like his crappy dialogue , you 'll like this movie . \n",
       " \n",
       "  xxmaj be smart . xxmaj avoid this . if you see it , destroy the copy .\n",
       "y: CategoryList\n",
       "neg,neg,neg,neg,neg\n",
       "Path: /userhome/34/h3509807/.fastai/data/imdb;\n",
       "\n",
       "Valid: LabelList (25000 items)\n",
       "x: TextList\n",
       "xxbos i thought this movie was brilliant . xxmaj it was so funny and so true too . a great idea for a movie . xxmaj five groups of friends on their way to schoolies . i 've got to say that xxmaj matt xxmaj newton as xxmaj mason was probably my favourite character . i wish i could give this movie more than a 10 rating .,xxbos xxmaj it 'll soon be 10 yrs since this movie was released xxrep 4 . still makes me laugh xxrep 4 . xxmaj if u enjoy this film , try the new xxmaj hera xxmaj pheri xxrep 4 . xxunk as hilarious . xxmaj and my favourite bit of the film must be when xxmaj salman realises that he has no bullets left in his gun while he has the upper hand and has everyone at gun point ... and he actually says it out loud ! ! ! u just wanna bash him xxrep 4 . but u know u can only do that if u stop laughing xxrep 4 ! xxmaj fantastic film xxrep 4 . 10 / 10,xxbos xxmaj we do n't know why this extraordinary film was never made available officially on xxup dvd ... xxmaj anthony xxmaj quinn 's performance alone makes this a must - see . xxmaj there are relatively few films in which an actor identifies so profoundly with his character , a phenomenon always unique for us , moviegoers . \n",
       " \n",
       "  xxmaj but xxmaj quinn 's powerful portrayal of an innocent xxmaj romanian , literally dragged out of his house and everyday life by forces he can not comprehend , is only part of what makes this film great . xxmaj the script is based on a book published in xxmaj paris by a xxmaj romanian priest who fled the xxmaj communist take - over of his country , and the film succeeds to go deep into a little known area of xxmaj east - xxmaj european history . xxmaj told as a succession of xxmaj kafka - esquire twists of fate , the misadventures of xxmaj johann xxmaj moritz ( told openly and honestly , without any of the political correctness currently so precious in xxmaj hollywood ) are in fact a eulogy for the lost innocence of the xxmaj romanian people ... it is devilishly ironic that this eulogy is signed by a xxmaj french director , working with the xxmaj american money of an xxmaj italian producer , and overseeing a multinational cast fronted by an extraordinary xxmaj mexican - born thespian . \n",
       " \n",
       "  i 've seen mentions of vcds of this film in various xxmaj asian internet stores , and i was fortunate to take possession of a digital recording of this film , broadcast on the xxmaj british version of xxup tcm . xxmaj but it 's a shame that \" xxmaj the 25th xxmaj hour \" is n't anywhere on the future xxup dvd release map of xxup mgm studios .,xxbos xxmaj this truly is an xxmaj australia cult classic . xxmaj if you 're one of the lucky ones to have seen it-- then you are very lucky . xxmaj it has been released in most countries , but not in xxmaj australia for some reason . i have a copy on xxup dvd from the xxup uk . xxmaj not a great transfer , but i bought it , having seen it previously at a film festival . xxmaj the directing is spot on and the performances rock ! xxmaj this is dark film scary film , but often times , very funny in parts . i urge you to see this film , there is a coolness about this you do n't see in 99 % of the typical xxmaj aussie fare . xxmaj the screenplay is very well crafted and sends you on a journey where you know it will end badly , but until the last ten minutes , you just ca n't pick how badly . xxmaj great work from the four leads , especially xxmaj lachy xxmaj hulme . \n",
       " \n",
       "  xxmaj when its all said and done : xxmaj great work on display !,xxbos xxmaj ida xxmaj lupino is trapped in her own home by crazy xxmaj robert xxmaj ryan in \" xxmaj beware , xxmaj my xxmaj lovely , \" a 1952 film from xxup rko . xxmaj lupino and xxmaj ryan did three films together and worked well as a team , both being consummate professionals and strong performers . xxmaj in this film , based on a xxmaj broadway play called \" xxmaj the xxmaj man , \" xxmaj lupino is a xxmaj world xxmaj war i widow who rents out a room in her home . xxmaj she 's very active and well - liked in her community and though her husband has been dead for two years , she 's not ready to move on . xxmaj the man who rents her room goes on vacation , and xxmaj lupino hires xxmaj robert xxmaj ryan to help her with some heavy - duty cleaning in the house . xxmaj he 's friendly enough to start , but later terrorizes her , locking her in the house , and not allowing her to answer the phone or the door , as he grows violent and more out of touch with reality . \n",
       " \n",
       "  xxmaj the character played by xxmaj ryan is shown in the beginning of the movie running away when he discovers a dead body in another house he 's working in . xxmaj it is n't clear whether or not he 's the killer , since he seems surprised to see the body . xxmaj he might be a split personality , as when his personality turns ugly toward xxmaj lupino , he seems to have no memory of his activities when he comes out of it . xxmaj he does n't know that he has the keys to xxmaj lupino 's house in his pocket and does n't know why he has tickets to a party that he bought from young children who came to the door . \n",
       " \n",
       "  \" xxmaj beware , xxmaj my xxmaj lovely , \" is a very suspenseful film , and the two leads give terrific performances . xxmaj the tension builds to a very high level and ends in a way you 're not expecting .\n",
       "y: CategoryList\n",
       "pos,pos,pos,pos,pos\n",
       "Path: /userhome/34/h3509807/.fastai/data/imdb;\n",
       "\n",
       "Test: None, model=SequentialRNN(\n",
       "  (0): MultiBatchEncoder(\n",
       "    (module): AWD_LSTM(\n",
       "      (encoder): Embedding(60000, 400, padding_idx=1)\n",
       "      (encoder_dp): EmbeddingDropout(\n",
       "        (emb): Embedding(60000, 400, padding_idx=1)\n",
       "      )\n",
       "      (rnns): ModuleList(\n",
       "        (0): WeightDropout(\n",
       "          (module): LSTM(400, 1152, batch_first=True)\n",
       "        )\n",
       "        (1): WeightDropout(\n",
       "          (module): LSTM(1152, 1152, batch_first=True)\n",
       "        )\n",
       "        (2): WeightDropout(\n",
       "          (module): LSTM(1152, 400, batch_first=True)\n",
       "        )\n",
       "      )\n",
       "      (input_dp): RNNDropout()\n",
       "      (hidden_dps): ModuleList(\n",
       "        (0): RNNDropout()\n",
       "        (1): RNNDropout()\n",
       "        (2): RNNDropout()\n",
       "      )\n",
       "    )\n",
       "  )\n",
       "  (1): PoolingLinearClassifier(\n",
       "    (layers): Sequential(\n",
       "      (0): BatchNorm1d(1200, eps=1e-05, momentum=0.1, affine=True, track_running_stats=True)\n",
       "      (1): Dropout(p=0.2, inplace=False)\n",
       "      (2): Linear(in_features=1200, out_features=50, bias=True)\n",
       "      (3): ReLU(inplace=True)\n",
       "      (4): BatchNorm1d(50, eps=1e-05, momentum=0.1, affine=True, track_running_stats=True)\n",
       "      (5): Dropout(p=0.1, inplace=False)\n",
       "      (6): Linear(in_features=50, out_features=2, bias=True)\n",
       "    )\n",
       "  )\n",
       "), opt_func=functools.partial(<class 'torch.optim.adam.Adam'>, betas=(0.9, 0.99)), loss_func=FlattenedLoss of CrossEntropyLoss(), metrics=[<function accuracy at 0x7f1c2af3d1e0>], true_wd=True, bn_wd=True, wd=0.01, train_bn=True, path=PosixPath('/userhome/34/h3509807/.fastai/data/imdb'), model_dir='models', callback_fns=[functools.partial(<class 'fastai.basic_train.Recorder'>, add_time=True, silent=False)], callbacks=[...], layer_groups=[Sequential(\n",
       "  (0): Embedding(60000, 400, padding_idx=1)\n",
       "  (1): EmbeddingDropout(\n",
       "    (emb): Embedding(60000, 400, padding_idx=1)\n",
       "  )\n",
       "), Sequential(\n",
       "  (0): WeightDropout(\n",
       "    (module): LSTM(400, 1152, batch_first=True)\n",
       "  )\n",
       "  (1): RNNDropout()\n",
       "), Sequential(\n",
       "  (0): WeightDropout(\n",
       "    (module): LSTM(1152, 1152, batch_first=True)\n",
       "  )\n",
       "  (1): RNNDropout()\n",
       "), Sequential(\n",
       "  (0): WeightDropout(\n",
       "    (module): LSTM(1152, 400, batch_first=True)\n",
       "  )\n",
       "  (1): RNNDropout()\n",
       "), Sequential(\n",
       "  (0): PoolingLinearClassifier(\n",
       "    (layers): Sequential(\n",
       "      (0): BatchNorm1d(1200, eps=1e-05, momentum=0.1, affine=True, track_running_stats=True)\n",
       "      (1): Dropout(p=0.2, inplace=False)\n",
       "      (2): Linear(in_features=1200, out_features=50, bias=True)\n",
       "      (3): ReLU(inplace=True)\n",
       "      (4): BatchNorm1d(50, eps=1e-05, momentum=0.1, affine=True, track_running_stats=True)\n",
       "      (5): Dropout(p=0.1, inplace=False)\n",
       "      (6): Linear(in_features=50, out_features=2, bias=True)\n",
       "    )\n",
       "  )\n",
       ")], add_time=True, silent=False)\n",
       "alpha: 2.0\n",
       "beta: 1.0], layer_groups=[Sequential(\n",
       "  (0): Embedding(60000, 400, padding_idx=1)\n",
       "  (1): EmbeddingDropout(\n",
       "    (emb): Embedding(60000, 400, padding_idx=1)\n",
       "  )\n",
       "), Sequential(\n",
       "  (0): WeightDropout(\n",
       "    (module): LSTM(400, 1152, batch_first=True)\n",
       "  )\n",
       "  (1): RNNDropout()\n",
       "), Sequential(\n",
       "  (0): WeightDropout(\n",
       "    (module): LSTM(1152, 1152, batch_first=True)\n",
       "  )\n",
       "  (1): RNNDropout()\n",
       "), Sequential(\n",
       "  (0): WeightDropout(\n",
       "    (module): LSTM(1152, 400, batch_first=True)\n",
       "  )\n",
       "  (1): RNNDropout()\n",
       "), Sequential(\n",
       "  (0): PoolingLinearClassifier(\n",
       "    (layers): Sequential(\n",
       "      (0): BatchNorm1d(1200, eps=1e-05, momentum=0.1, affine=True, track_running_stats=True)\n",
       "      (1): Dropout(p=0.2, inplace=False)\n",
       "      (2): Linear(in_features=1200, out_features=50, bias=True)\n",
       "      (3): ReLU(inplace=True)\n",
       "      (4): BatchNorm1d(50, eps=1e-05, momentum=0.1, affine=True, track_running_stats=True)\n",
       "      (5): Dropout(p=0.1, inplace=False)\n",
       "      (6): Linear(in_features=50, out_features=2, bias=True)\n",
       "    )\n",
       "  )\n",
       ")], add_time=True, silent=False)"
      ]
     },
     "execution_count": 7,
     "metadata": {},
     "output_type": "execute_result"
    }
   ],
   "source": [
    "learn.load('final')"
   ]
  },
  {
   "cell_type": "markdown",
   "metadata": {},
   "source": [
    "#### 4. Inference"
   ]
  },
  {
   "cell_type": "code",
   "execution_count": 10,
   "metadata": {},
   "outputs": [
    {
     "data": {
      "text/plain": [
       "(Category pos, tensor(1), tensor([0.0169, 0.9831]))"
      ]
     },
     "execution_count": 10,
     "metadata": {},
     "output_type": "execute_result"
    }
   ],
   "source": [
    "learn.predict('I like this movie very much!')"
   ]
  },
  {
   "cell_type": "code",
   "execution_count": null,
   "metadata": {},
   "outputs": [],
   "source": []
  }
 ],
 "metadata": {
  "kernelspec": {
   "display_name": "Python 3",
   "language": "python",
   "name": "python3"
  },
  "language_info": {
   "codemirror_mode": {
    "name": "ipython",
    "version": 3
   },
   "file_extension": ".py",
   "mimetype": "text/x-python",
   "name": "python",
   "nbconvert_exporter": "python",
   "pygments_lexer": "ipython3",
   "version": "3.7.4"
  }
 },
 "nbformat": 4,
 "nbformat_minor": 2
}
